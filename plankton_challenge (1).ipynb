{
 "cells": [
  {
   "cell_type": "markdown",
   "metadata": {},
   "source": [
    "<h3>Algorithmic Machine Learning Challenge</h3>\n",
    "<h1>Plankton Image Classification</h1>\n",
    "<hr style=\"height:2px;border:none;color:#333;background-color:#333;\"/>"
   ]
  },
  {
   "cell_type": "markdown",
   "metadata": {},
   "source": [
    "Plankton comprises all the organisms freely drifting with ocean currents. These life forms are a critically important piece of oceanic ecosystems, accounting for more than half the primary production on earth and nearly half the total carbon fixed in the global carbon cycle. They also form the foundation of aquatic food webs, including those of large, commercially important fisheries. Loss of plankton populations could result in ecological upheaval as well as negative societal impacts, particularly in indigenous cultures and the developing world. Plankton’s global significance makes their population levels an ideal measure of the health of the world’s oceans and ecosystems.\n",
    "\n",
    "Traditional methods for measuring and monitoring plankton populations are time consuming and cannot scale to the granularity or scope necessary for large-scale studies. Improved approaches are needed. One such approach is through the use of underwater imagery sensors. \n",
    "\n",
    "In this challenge, which was prepared in cooperation with the Laboratoire d’Océanographie de Villefranche, jointly run by Sorbonne Université and CNRS, plankton images were acquired in the bay of Villefranche, weekly since 2013 and manually engineered features were computed on each imaged object. \n",
    "\n",
    "This challenge aims at developing solid approaches to plankton image classification. We will compare methods based on carefully (but manually) engineered features, with “Deep Learning” methods in which features will be learned from image data alone.\n",
    "\n",
    "The purpose of this challenge is for you to learn about the commonly used paradigms when working with computer vision problems. This means you can choose one of the following paths:\n",
    "\n",
    "- Work directly with the provided images, e.g. using a (convolutional) neural network\n",
    "- Work with the supplied features extracted from the images (*native* or *skimage* or both of them)\n",
    "- Extract your own features from the provided images using a technique of your choice\n",
    "\n",
    "You will find a detailed description about the image data and the features at the end of this text.\n",
    "In any case, the choice of the classifier that you decide to work with strongly depends on the choice of features.\n",
    "\n",
    "Please bear in mind that the purpose of this challenge is not simply to find the best-performing model that was released on e.g. Kaggle for a similar problem. You should rather make sure to understand the dificulties that come with this computer vision task. Moreover, you should be able to justify your choice of features/model and be able to explain its advantages and disadvantages for the task."
   ]
  },
  {
   "cell_type": "markdown",
   "metadata": {},
   "source": [
    "# Overview\n",
    "<hr style=\"height:1px;border:none;color:#333;background-color:#333;\" />    "
   ]
  },
  {
   "cell_type": "markdown",
   "metadata": {},
   "source": [
    "Beyond simply producing a well-performing model for making predictions, in this challenge we would like you to start developing your skills as a machine learning scientist.\n",
    "In this regard, your notebook should be structured in such a way as to explore the five following tasks that are expected to be carried out whenever undertaking such a project.\n",
    "The description below each aspect should serve as a guide for your work, but you are strongly encouraged to also explore alternative options and directions. \n",
    "Thinking outside the box will always be rewarded in these challenges."
   ]
  },
  {
   "cell_type": "markdown",
   "metadata": {},
   "source": [
    "<div class=\"\">\n",
    "    <h2>Submission Instructions</h2>\n",
    "    <hr style=\"height:1px;border:none;color:#333;background-color:#333;\" />    \n",
    "</div>"
   ]
  },
  {
   "cell_type": "markdown",
   "metadata": {},
   "source": [
    "- The goal of this challenge is to construct a model for predicting Plankton (taxonomy level 2) classes.\n",
    "\n",
    "- Your submission will be the <b>HTML version of your notebook</b> exploring the various modelling aspects described above.\n",
    "\n",
    "- At the end of the notebook you should indicate your final evaluation score on a held-out test set. As an evaluation metric you should use the F1 score with the *average=macro* option as it is provided by the scikit-learn library. See the following link for more information:\n",
    "        \n",
    "https://scikit-learn.org/stable/modules/generated/sklearn.metrics.f1_score.html"
   ]
  },
  {
   "cell_type": "markdown",
   "metadata": {},
   "source": [
    "<div class=\"\">\n",
    "    <h1>Start of our Notebook</h1>\n",
    "    <hr style=\"height:1px;border:none;color:#333;background-color:#333;\" />    \n",
    "</div>"
   ]
  },
  {
   "cell_type": "markdown",
   "metadata": {},
   "source": [
    "For this project, we decided to try be as accurate as possible with two different approaches in order to see if there was significant differences between these 2 approaches.\n",
    "\n",
    "The first approach is to try using existing features with different models, and the second consists in using deep learning using images only.\n",
    "\n"
   ]
  },
  {
   "cell_type": "markdown",
   "metadata": {},
   "source": [
    "<h2>Librairies Import</h2>\n",
    "<hr style=\"height:2px;border:none;color:#333;background-color:#333;\"/>\n"
   ]
  },
  {
   "cell_type": "code",
   "execution_count": 1,
   "metadata": {},
   "outputs": [
    {
     "name": "stdout",
     "output_type": "stream",
     "text": [
      "Requirement already satisfied: imblearn in ./.local/lib/python3.5/site-packages (0.0)\n",
      "Requirement already satisfied: imbalanced-learn in ./.local/lib/python3.5/site-packages (from imblearn) (0.4.3)\n",
      "Requirement already satisfied: numpy>=1.8.2 in /usr/local/lib/python3.5/dist-packages (from imbalanced-learn->imblearn) (1.14.5)\n",
      "Requirement already satisfied: scipy>=0.13.3 in /usr/local/lib/python3.5/dist-packages (from imbalanced-learn->imblearn) (1.1.0)\n",
      "Requirement already satisfied: scikit-learn>=0.20 in ./.local/lib/python3.5/site-packages (from imbalanced-learn->imblearn) (0.20.3)\n",
      "\u001b[33mYou are using pip version 18.0, however version 19.1 is available.\n",
      "You should consider upgrading via the 'pip install --upgrade pip' command.\u001b[0m\n",
      "Requirement already satisfied: joblib in ./.local/lib/python3.5/site-packages (0.13.2)\n",
      "\u001b[33mYou are using pip version 18.0, however version 19.1 is available.\n",
      "You should consider upgrading via the 'pip install --upgrade pip' command.\u001b[0m\n"
     ]
    }
   ],
   "source": [
    "!pip install --user imblearn\n",
    "!pip install --user joblib"
   ]
  },
  {
   "cell_type": "code",
   "execution_count": 25,
   "metadata": {},
   "outputs": [],
   "source": [
    "%matplotlib inline\n",
    "import numpy as np\n",
    "import pandas as pd\n",
    "import random\n",
    "from matplotlib import pyplot as plt\n",
    "import zipfile\n",
    "from io import BytesIO\n",
    "from PIL import Image\n",
    "from sklearn.utils import shuffle\n",
    "import seaborn as sns\n",
    "\n",
    "path = \"/mnt/datasets/plankton/flowcam/\""
   ]
  },
  {
   "cell_type": "code",
   "execution_count": 3,
   "metadata": {},
   "outputs": [],
   "source": [
    "\n",
    "def extract_zip_to_memory(input_zip):\n",
    "    '''\n",
    "    This function extracts the images stored inside the given zip file.\n",
    "    It stores the result in a python dictionary.\n",
    "    \n",
    "    input_zip (string): path to the zip file\n",
    "    \n",
    "    returns (dict): {filename (string): image_file (bytes)}\n",
    "    '''\n",
    "    input_zip=zipfile.ZipFile(input_zip)\n",
    "    return {name: BytesIO(input_zip.read(name)) for name in input_zip.namelist() if name.endswith('.jpg')}\n",
    "\n",
    "\n",
    "img_files = extract_zip_to_memory(path+\"imgs.zip\")\n",
    "\n",
    "#Display an example image \n",
    "Image.open(img_files['imgs/32738710.jpg'])\n",
    "\n",
    "# Load the image as a numpy array:\n",
    "np_arr = np.array(Image.open(img_files['imgs/32738710.jpg']))\n",
    "\n",
    "# Be aware that the dictionary will occupy roughly 2GB of computer memory!\n",
    "# To free this memory again, run:\n",
    "# del img_files"
   ]
  },
  {
   "cell_type": "markdown",
   "metadata": {},
   "source": [
    "\n",
    "## 1. Data Exploration\n",
    "\n",
    "\n"
   ]
  },
  {
   "cell_type": "markdown",
   "metadata": {},
   "source": [
    "## 1.1 Data Exploration on the feature"
   ]
  },
  {
   "cell_type": "code",
   "execution_count": 2,
   "metadata": {},
   "outputs": [],
   "source": [
    "metaDF = pd.read_csv(path + 'meta.csv')\n",
    "taxoDF = pd.read_csv(path + 'taxo.csv')\n",
    "features_nativeDF = pd.read_csv(path +\"features_native.csv.gz\", compression='gzip')\n",
    "features_skimageDF = pd.read_csv(path +\"features_skimage.csv.gz\", compression='gzip')"
   ]
  },
  {
   "cell_type": "code",
   "execution_count": 3,
   "metadata": {},
   "outputs": [
    {
     "data": {
      "text/html": [
       "<div>\n",
       "<style scoped>\n",
       "    .dataframe tbody tr th:only-of-type {\n",
       "        vertical-align: middle;\n",
       "    }\n",
       "\n",
       "    .dataframe tbody tr th {\n",
       "        vertical-align: top;\n",
       "    }\n",
       "\n",
       "    .dataframe thead th {\n",
       "        text-align: right;\n",
       "    }\n",
       "</style>\n",
       "<table border=\"1\" class=\"dataframe\">\n",
       "  <thead>\n",
       "    <tr style=\"text-align: right;\">\n",
       "      <th></th>\n",
       "      <th>objid</th>\n",
       "      <th>projid</th>\n",
       "      <th>id</th>\n",
       "      <th>status</th>\n",
       "      <th>latitude</th>\n",
       "      <th>longitude</th>\n",
       "      <th>objdate</th>\n",
       "      <th>objtime</th>\n",
       "      <th>depth_min</th>\n",
       "      <th>depth_max</th>\n",
       "      <th>unique_name</th>\n",
       "      <th>lineage</th>\n",
       "      <th>level1</th>\n",
       "      <th>level2</th>\n",
       "    </tr>\n",
       "  </thead>\n",
       "  <tbody>\n",
       "    <tr>\n",
       "      <th>0</th>\n",
       "      <td>32756761.0</td>\n",
       "      <td>133</td>\n",
       "      <td>84963</td>\n",
       "      <td>V</td>\n",
       "      <td>43.683333</td>\n",
       "      <td>7.3</td>\n",
       "      <td>2013-09-19</td>\n",
       "      <td>00:09:00</td>\n",
       "      <td>0</td>\n",
       "      <td>75</td>\n",
       "      <td>detritus</td>\n",
       "      <td>/#/not-living/detritus</td>\n",
       "      <td>detritus</td>\n",
       "      <td>detritus</td>\n",
       "    </tr>\n",
       "    <tr>\n",
       "      <th>1</th>\n",
       "      <td>32759364.0</td>\n",
       "      <td>133</td>\n",
       "      <td>84963</td>\n",
       "      <td>V</td>\n",
       "      <td>43.683333</td>\n",
       "      <td>7.3</td>\n",
       "      <td>2013-09-19</td>\n",
       "      <td>00:09:00</td>\n",
       "      <td>0</td>\n",
       "      <td>75</td>\n",
       "      <td>detritus</td>\n",
       "      <td>/#/not-living/detritus</td>\n",
       "      <td>detritus</td>\n",
       "      <td>detritus</td>\n",
       "    </tr>\n",
       "    <tr>\n",
       "      <th>2</th>\n",
       "      <td>32758055.0</td>\n",
       "      <td>133</td>\n",
       "      <td>28299</td>\n",
       "      <td>V</td>\n",
       "      <td>43.683333</td>\n",
       "      <td>7.3</td>\n",
       "      <td>2013-09-19</td>\n",
       "      <td>00:09:00</td>\n",
       "      <td>0</td>\n",
       "      <td>75</td>\n",
       "      <td>Guinardia</td>\n",
       "      <td>/#/living/Eukaryota/Harosa/Stramenopiles/Ochro...</td>\n",
       "      <td>Guinardia</td>\n",
       "      <td>Rhizosolenids</td>\n",
       "    </tr>\n",
       "    <tr>\n",
       "      <th>3</th>\n",
       "      <td>32758988.0</td>\n",
       "      <td>133</td>\n",
       "      <td>92010</td>\n",
       "      <td>V</td>\n",
       "      <td>43.683333</td>\n",
       "      <td>7.3</td>\n",
       "      <td>2013-09-19</td>\n",
       "      <td>00:09:00</td>\n",
       "      <td>0</td>\n",
       "      <td>75</td>\n",
       "      <td>silks</td>\n",
       "      <td>/#/not-living/plastic/other/silks</td>\n",
       "      <td>silks</td>\n",
       "      <td>silks</td>\n",
       "    </tr>\n",
       "    <tr>\n",
       "      <th>4</th>\n",
       "      <td>32760598.0</td>\n",
       "      <td>133</td>\n",
       "      <td>92010</td>\n",
       "      <td>V</td>\n",
       "      <td>43.683333</td>\n",
       "      <td>7.3</td>\n",
       "      <td>2013-09-19</td>\n",
       "      <td>00:09:00</td>\n",
       "      <td>0</td>\n",
       "      <td>75</td>\n",
       "      <td>silks</td>\n",
       "      <td>/#/not-living/plastic/other/silks</td>\n",
       "      <td>silks</td>\n",
       "      <td>silks</td>\n",
       "    </tr>\n",
       "  </tbody>\n",
       "</table>\n",
       "</div>"
      ],
      "text/plain": [
       "        objid  projid     id status   latitude  longitude     objdate  \\\n",
       "0  32756761.0     133  84963      V  43.683333        7.3  2013-09-19   \n",
       "1  32759364.0     133  84963      V  43.683333        7.3  2013-09-19   \n",
       "2  32758055.0     133  28299      V  43.683333        7.3  2013-09-19   \n",
       "3  32758988.0     133  92010      V  43.683333        7.3  2013-09-19   \n",
       "4  32760598.0     133  92010      V  43.683333        7.3  2013-09-19   \n",
       "\n",
       "    objtime  depth_min  depth_max unique_name  \\\n",
       "0  00:09:00          0         75    detritus   \n",
       "1  00:09:00          0         75    detritus   \n",
       "2  00:09:00          0         75   Guinardia   \n",
       "3  00:09:00          0         75       silks   \n",
       "4  00:09:00          0         75       silks   \n",
       "\n",
       "                                             lineage     level1         level2  \n",
       "0                             /#/not-living/detritus   detritus       detritus  \n",
       "1                             /#/not-living/detritus   detritus       detritus  \n",
       "2  /#/living/Eukaryota/Harosa/Stramenopiles/Ochro...  Guinardia  Rhizosolenids  \n",
       "3                  /#/not-living/plastic/other/silks      silks          silks  \n",
       "4                  /#/not-living/plastic/other/silks      silks          silks  "
      ]
     },
     "execution_count": 3,
     "metadata": {},
     "output_type": "execute_result"
    }
   ],
   "source": [
    "metaDF.head()\n"
   ]
  },
  {
   "cell_type": "markdown",
   "metadata": {},
   "source": [
    "<H4>What are status, latitude longitude objdate objtime depth_min depth_max? Do they have different only one value? "
   ]
  },
  {
   "cell_type": "code",
   "execution_count": 4,
   "metadata": {},
   "outputs": [
    {
     "name": "stdout",
     "output_type": "stream",
     "text": [
      "projid has 2 different value(s)\n",
      "id has 103 different value(s)\n",
      "status has 1 different value(s)\n",
      "latitude has 1 different value(s)\n",
      "longitude has 2 different value(s)\n",
      "objdate has 73 different value(s)\n",
      "objtime has 14 different value(s)\n",
      "depth_min has 1 different value(s)\n",
      "depth_max has 1 different value(s)\n",
      "unique_name has 103 different value(s)\n",
      "lineage has 103 different value(s)\n",
      "level1 has 57 different value(s)\n",
      "level2 has 40 different value(s)\n"
     ]
    }
   ],
   "source": [
    "colums = [\"projid\", \"id\", \"status\", \"latitude\", \"longitude\", \"objdate\", \"objtime\", \"depth_min\", \"depth_max\", \"unique_name\", \"lineage\", \"level1\", \"level2\"]\n",
    "for c in colums:\n",
    "    print( c+ \" has {} different value(s)\".format(len(metaDF[c].unique())))"
   ]
  },
  {
   "cell_type": "markdown",
   "metadata": {},
   "source": [
    "<h4> We noticed that the latitude, longitude, depth_min, depth_max are always the same so it is useless to keep it. We are not going to use Level1 as it is mention above so we also drop this column."
   ]
  },
  {
   "cell_type": "code",
   "execution_count": 5,
   "metadata": {},
   "outputs": [],
   "source": [
    "metaDF.drop(columns=[\"latitude\", \"longitude\", \"depth_min\", \"depth_max\", \"level1\"],  inplace=True)"
   ]
  },
  {
   "cell_type": "code",
   "execution_count": 6,
   "metadata": {},
   "outputs": [
    {
     "name": "stdout",
     "output_type": "stream",
     "text": [
      "<class 'pandas.core.frame.DataFrame'>\n",
      "RangeIndex: 243610 entries, 0 to 243609\n",
      "Data columns (total 9 columns):\n",
      "objid          243610 non-null float64\n",
      "projid         243610 non-null int64\n",
      "id             243610 non-null int64\n",
      "status         243610 non-null object\n",
      "objdate        243610 non-null object\n",
      "objtime        243610 non-null object\n",
      "unique_name    243610 non-null object\n",
      "lineage        243610 non-null object\n",
      "level2         242607 non-null object\n",
      "dtypes: float64(1), int64(2), object(6)\n",
      "memory usage: 16.7+ MB\n"
     ]
    }
   ],
   "source": [
    "metaDF.info()"
   ]
  },
  {
   "cell_type": "markdown",
   "metadata": {},
   "source": [
    "<h4> Do we have Nan value in metaDF, in level2? if yes, we have erase it."
   ]
  },
  {
   "cell_type": "code",
   "execution_count": 7,
   "metadata": {},
   "outputs": [
    {
     "name": "stdout",
     "output_type": "stream",
     "text": [
      "level2    1003\n",
      "dtype: int64\n"
     ]
    }
   ],
   "source": [
    "missing_numerical = metaDF.isnull().sum()\n",
    "print(missing_numerical[missing_numerical > 0])"
   ]
  },
  {
   "cell_type": "code",
   "execution_count": 8,
   "metadata": {},
   "outputs": [],
   "source": [
    "metaDF.dropna(inplace=True)"
   ]
  },
  {
   "cell_type": "code",
   "execution_count": 9,
   "metadata": {},
   "outputs": [
    {
     "data": {
      "text/html": [
       "<div>\n",
       "<style scoped>\n",
       "    .dataframe tbody tr th:only-of-type {\n",
       "        vertical-align: middle;\n",
       "    }\n",
       "\n",
       "    .dataframe tbody tr th {\n",
       "        vertical-align: top;\n",
       "    }\n",
       "\n",
       "    .dataframe thead th {\n",
       "        text-align: right;\n",
       "    }\n",
       "</style>\n",
       "<table border=\"1\" class=\"dataframe\">\n",
       "  <thead>\n",
       "    <tr style=\"text-align: right;\">\n",
       "      <th></th>\n",
       "      <th>levelName</th>\n",
       "      <th>id</th>\n",
       "      <th>unique_name</th>\n",
       "      <th>n</th>\n",
       "      <th>level1</th>\n",
       "      <th>comment1</th>\n",
       "      <th>level2</th>\n",
       "      <th>comment2</th>\n",
       "    </tr>\n",
       "  </thead>\n",
       "  <tbody>\n",
       "    <tr>\n",
       "      <th>0</th>\n",
       "      <td>#</td>\n",
       "      <td>NaN</td>\n",
       "      <td>NaN</td>\n",
       "      <td>NaN</td>\n",
       "      <td>NaN</td>\n",
       "      <td>NaN</td>\n",
       "      <td>NaN</td>\n",
       "      <td>NaN</td>\n",
       "    </tr>\n",
       "    <tr>\n",
       "      <th>1</th>\n",
       "      <td>¦--living</td>\n",
       "      <td>NaN</td>\n",
       "      <td>NaN</td>\n",
       "      <td>NaN</td>\n",
       "      <td>NaN</td>\n",
       "      <td>NaN</td>\n",
       "      <td>NaN</td>\n",
       "      <td>NaN</td>\n",
       "    </tr>\n",
       "    <tr>\n",
       "      <th>2</th>\n",
       "      <td>¦   ¦--Bacteria</td>\n",
       "      <td>NaN</td>\n",
       "      <td>NaN</td>\n",
       "      <td>NaN</td>\n",
       "      <td>NaN</td>\n",
       "      <td>NaN</td>\n",
       "      <td>NaN</td>\n",
       "      <td>NaN</td>\n",
       "    </tr>\n",
       "    <tr>\n",
       "      <th>3</th>\n",
       "      <td>¦   ¦   °--Cyanobacteria</td>\n",
       "      <td>NaN</td>\n",
       "      <td>NaN</td>\n",
       "      <td>NaN</td>\n",
       "      <td>NaN</td>\n",
       "      <td>NaN</td>\n",
       "      <td>NaN</td>\n",
       "      <td>NaN</td>\n",
       "    </tr>\n",
       "    <tr>\n",
       "      <th>4</th>\n",
       "      <td>¦   ¦       °--Cyanophyceae</td>\n",
       "      <td>NaN</td>\n",
       "      <td>NaN</td>\n",
       "      <td>NaN</td>\n",
       "      <td>NaN</td>\n",
       "      <td>NaN</td>\n",
       "      <td>NaN</td>\n",
       "      <td>NaN</td>\n",
       "    </tr>\n",
       "  </tbody>\n",
       "</table>\n",
       "</div>"
      ],
      "text/plain": [
       "                     levelName  id unique_name   n level1 comment1 level2  \\\n",
       "0                            # NaN         NaN NaN    NaN      NaN    NaN   \n",
       "1                    ¦--living NaN         NaN NaN    NaN      NaN    NaN   \n",
       "2              ¦   ¦--Bacteria NaN         NaN NaN    NaN      NaN    NaN   \n",
       "3     ¦   ¦   °--Cyanobacteria NaN         NaN NaN    NaN      NaN    NaN   \n",
       "4  ¦   ¦       °--Cyanophyceae NaN         NaN NaN    NaN      NaN    NaN   \n",
       "\n",
       "   comment2  \n",
       "0       NaN  \n",
       "1       NaN  \n",
       "2       NaN  \n",
       "3       NaN  \n",
       "4       NaN  "
      ]
     },
     "execution_count": 9,
     "metadata": {},
     "output_type": "execute_result"
    }
   ],
   "source": [
    "taxoDF.head()"
   ]
  },
  {
   "cell_type": "code",
   "execution_count": 10,
   "metadata": {},
   "outputs": [
    {
     "name": "stdout",
     "output_type": "stream",
     "text": [
      "<class 'pandas.core.frame.DataFrame'>\n",
      "RangeIndex: 178 entries, 0 to 177\n",
      "Data columns (total 8 columns):\n",
      "levelName      178 non-null object\n",
      "id             103 non-null float64\n",
      "unique_name    103 non-null object\n",
      "n              103 non-null float64\n",
      "level1         70 non-null object\n",
      "comment1       7 non-null object\n",
      "level2         78 non-null object\n",
      "comment2       0 non-null float64\n",
      "dtypes: float64(3), object(5)\n",
      "memory usage: 11.2+ KB\n"
     ]
    }
   ],
   "source": [
    "taxoDF.info()"
   ]
  },
  {
   "cell_type": "markdown",
   "metadata": {},
   "source": [
    "<h4> The taxo dataframe does not give usefull info, We might not use it in this notebook."
   ]
  },
  {
   "cell_type": "code",
   "execution_count": 11,
   "metadata": {},
   "outputs": [
    {
     "data": {
      "text/html": [
       "<div>\n",
       "<style scoped>\n",
       "    .dataframe tbody tr th:only-of-type {\n",
       "        vertical-align: middle;\n",
       "    }\n",
       "\n",
       "    .dataframe tbody tr th {\n",
       "        vertical-align: top;\n",
       "    }\n",
       "\n",
       "    .dataframe thead th {\n",
       "        text-align: right;\n",
       "    }\n",
       "</style>\n",
       "<table border=\"1\" class=\"dataframe\">\n",
       "  <thead>\n",
       "    <tr style=\"text-align: right;\">\n",
       "      <th></th>\n",
       "      <th>objid</th>\n",
       "      <th>area</th>\n",
       "      <th>meanimagegrey</th>\n",
       "      <th>mean</th>\n",
       "      <th>stddev</th>\n",
       "      <th>min</th>\n",
       "      <th>perim.</th>\n",
       "      <th>width</th>\n",
       "      <th>height</th>\n",
       "      <th>major</th>\n",
       "      <th>...</th>\n",
       "      <th>symetriev_area</th>\n",
       "      <th>nb1_area</th>\n",
       "      <th>nb2_area</th>\n",
       "      <th>nb3_area</th>\n",
       "      <th>nb1_range</th>\n",
       "      <th>nb2_range</th>\n",
       "      <th>nb3_range</th>\n",
       "      <th>median_mean</th>\n",
       "      <th>median_mean_range</th>\n",
       "      <th>skeleton_area</th>\n",
       "    </tr>\n",
       "  </thead>\n",
       "  <tbody>\n",
       "    <tr>\n",
       "      <th>0</th>\n",
       "      <td>32756761.0</td>\n",
       "      <td>6653.0</td>\n",
       "      <td>167.18</td>\n",
       "      <td>205.76</td>\n",
       "      <td>65.341</td>\n",
       "      <td>85</td>\n",
       "      <td>779.66</td>\n",
       "      <td>109</td>\n",
       "      <td>123</td>\n",
       "      <td>147.8</td>\n",
       "      <td>...</td>\n",
       "      <td>0.005988</td>\n",
       "      <td>0.017964</td>\n",
       "      <td>0.017964</td>\n",
       "      <td>0.059880</td>\n",
       "      <td>0.017647</td>\n",
       "      <td>0.017647</td>\n",
       "      <td>0.058824</td>\n",
       "      <td>47</td>\n",
       "      <td>0.276471</td>\n",
       "      <td>91.778443</td>\n",
       "    </tr>\n",
       "    <tr>\n",
       "      <th>1</th>\n",
       "      <td>32759364.0</td>\n",
       "      <td>1275.0</td>\n",
       "      <td>165.83</td>\n",
       "      <td>234.29</td>\n",
       "      <td>38.562</td>\n",
       "      <td>98</td>\n",
       "      <td>186.99</td>\n",
       "      <td>33</td>\n",
       "      <td>65</td>\n",
       "      <td>82.4</td>\n",
       "      <td>...</td>\n",
       "      <td>0.012048</td>\n",
       "      <td>0.024096</td>\n",
       "      <td>0.012048</td>\n",
       "      <td>0.006024</td>\n",
       "      <td>0.025478</td>\n",
       "      <td>0.012739</td>\n",
       "      <td>0.006369</td>\n",
       "      <td>21</td>\n",
       "      <td>0.133758</td>\n",
       "      <td>18.030120</td>\n",
       "    </tr>\n",
       "    <tr>\n",
       "      <th>2</th>\n",
       "      <td>32758055.0</td>\n",
       "      <td>2416.0</td>\n",
       "      <td>167.92</td>\n",
       "      <td>239.15</td>\n",
       "      <td>25.590</td>\n",
       "      <td>94</td>\n",
       "      <td>276.33</td>\n",
       "      <td>26</td>\n",
       "      <td>115</td>\n",
       "      <td>138.8</td>\n",
       "      <td>...</td>\n",
       "      <td>0.017857</td>\n",
       "      <td>0.011905</td>\n",
       "      <td>0.053571</td>\n",
       "      <td>0.107143</td>\n",
       "      <td>0.012422</td>\n",
       "      <td>0.055901</td>\n",
       "      <td>0.111801</td>\n",
       "      <td>16</td>\n",
       "      <td>0.099379</td>\n",
       "      <td>24.892857</td>\n",
       "    </tr>\n",
       "    <tr>\n",
       "      <th>3</th>\n",
       "      <td>32758988.0</td>\n",
       "      <td>1433.0</td>\n",
       "      <td>167.34</td>\n",
       "      <td>248.79</td>\n",
       "      <td>20.933</td>\n",
       "      <td>107</td>\n",
       "      <td>388.40</td>\n",
       "      <td>126</td>\n",
       "      <td>117</td>\n",
       "      <td>151.2</td>\n",
       "      <td>...</td>\n",
       "      <td>0.005988</td>\n",
       "      <td>0.000000</td>\n",
       "      <td>0.000000</td>\n",
       "      <td>0.023952</td>\n",
       "      <td>0.000000</td>\n",
       "      <td>0.000000</td>\n",
       "      <td>0.027027</td>\n",
       "      <td>6</td>\n",
       "      <td>0.040541</td>\n",
       "      <td>99.365269</td>\n",
       "    </tr>\n",
       "    <tr>\n",
       "      <th>4</th>\n",
       "      <td>32760598.0</td>\n",
       "      <td>1650.0</td>\n",
       "      <td>166.89</td>\n",
       "      <td>250.42</td>\n",
       "      <td>14.603</td>\n",
       "      <td>124</td>\n",
       "      <td>751.96</td>\n",
       "      <td>66</td>\n",
       "      <td>239</td>\n",
       "      <td>278.7</td>\n",
       "      <td>...</td>\n",
       "      <td>0.017964</td>\n",
       "      <td>0.029940</td>\n",
       "      <td>0.083832</td>\n",
       "      <td>0.059880</td>\n",
       "      <td>0.038168</td>\n",
       "      <td>0.106870</td>\n",
       "      <td>0.076336</td>\n",
       "      <td>5</td>\n",
       "      <td>0.038168</td>\n",
       "      <td>109.449102</td>\n",
       "    </tr>\n",
       "  </tbody>\n",
       "</table>\n",
       "<p>5 rows × 65 columns</p>\n",
       "</div>"
      ],
      "text/plain": [
       "        objid    area  meanimagegrey    mean  stddev  min  perim.  width  \\\n",
       "0  32756761.0  6653.0         167.18  205.76  65.341   85  779.66    109   \n",
       "1  32759364.0  1275.0         165.83  234.29  38.562   98  186.99     33   \n",
       "2  32758055.0  2416.0         167.92  239.15  25.590   94  276.33     26   \n",
       "3  32758988.0  1433.0         167.34  248.79  20.933  107  388.40    126   \n",
       "4  32760598.0  1650.0         166.89  250.42  14.603  124  751.96     66   \n",
       "\n",
       "   height  major      ...        symetriev_area  nb1_area  nb2_area  nb3_area  \\\n",
       "0     123  147.8      ...              0.005988  0.017964  0.017964  0.059880   \n",
       "1      65   82.4      ...              0.012048  0.024096  0.012048  0.006024   \n",
       "2     115  138.8      ...              0.017857  0.011905  0.053571  0.107143   \n",
       "3     117  151.2      ...              0.005988  0.000000  0.000000  0.023952   \n",
       "4     239  278.7      ...              0.017964  0.029940  0.083832  0.059880   \n",
       "\n",
       "   nb1_range  nb2_range  nb3_range  median_mean  median_mean_range  \\\n",
       "0   0.017647   0.017647   0.058824           47           0.276471   \n",
       "1   0.025478   0.012739   0.006369           21           0.133758   \n",
       "2   0.012422   0.055901   0.111801           16           0.099379   \n",
       "3   0.000000   0.000000   0.027027            6           0.040541   \n",
       "4   0.038168   0.106870   0.076336            5           0.038168   \n",
       "\n",
       "   skeleton_area  \n",
       "0      91.778443  \n",
       "1      18.030120  \n",
       "2      24.892857  \n",
       "3      99.365269  \n",
       "4     109.449102  \n",
       "\n",
       "[5 rows x 65 columns]"
      ]
     },
     "execution_count": 11,
     "metadata": {},
     "output_type": "execute_result"
    }
   ],
   "source": [
    "features_nativeDF.head()\n"
   ]
  },
  {
   "cell_type": "code",
   "execution_count": 12,
   "metadata": {},
   "outputs": [
    {
     "name": "stdout",
     "output_type": "stream",
     "text": [
      "<class 'pandas.core.frame.DataFrame'>\n",
      "RangeIndex: 243610 entries, 0 to 243609\n",
      "Data columns (total 65 columns):\n",
      "objid                243610 non-null float64\n",
      "area                 243610 non-null float64\n",
      "meanimagegrey        243610 non-null float64\n",
      "mean                 243610 non-null float64\n",
      "stddev               243610 non-null float64\n",
      "min                  243610 non-null int64\n",
      "perim.               243610 non-null float64\n",
      "width                243610 non-null int64\n",
      "height               243610 non-null int64\n",
      "major                243610 non-null float64\n",
      "minor                243610 non-null float64\n",
      "angle                243610 non-null int64\n",
      "circ.                243610 non-null float64\n",
      "feret                243610 non-null float64\n",
      "intden               243610 non-null float64\n",
      "median               243610 non-null int64\n",
      "skew                 243610 non-null float64\n",
      "kurt                 243610 non-null float64\n",
      "%area                243610 non-null float64\n",
      "area_exc             243610 non-null float64\n",
      "fractal              243610 non-null float64\n",
      "skelarea             243610 non-null float64\n",
      "slope                243610 non-null float64\n",
      "histcum1             243610 non-null int64\n",
      "histcum2             243610 non-null int64\n",
      "histcum3             243610 non-null int64\n",
      "nb1                  243610 non-null int64\n",
      "nb2                  243610 non-null int64\n",
      "nb3                  243610 non-null int64\n",
      "symetrieh            243610 non-null float64\n",
      "symetriev            243610 non-null float64\n",
      "symetriehc           243610 non-null int64\n",
      "symetrievc           243610 non-null int64\n",
      "convperim            243610 non-null float64\n",
      "convarea             243610 non-null float64\n",
      "fcons                243610 non-null float64\n",
      "thickr               243610 non-null float64\n",
      "esd                  243610 non-null int64\n",
      "elongation           243610 non-null float64\n",
      "range                243610 non-null int64\n",
      "meanpos              243610 non-null float64\n",
      "centroids            243610 non-null int64\n",
      "cv                   243610 non-null float64\n",
      "sr                   243610 non-null float64\n",
      "perimareaexc         209182 non-null float64\n",
      "feretareaexc         209182 non-null float64\n",
      "perimferet           243610 non-null float64\n",
      "perimmajor           243610 non-null float64\n",
      "circex               243610 non-null float64\n",
      "cdexc                209182 non-null float64\n",
      "kurt_mean            243610 non-null float64\n",
      "skew_mean            243610 non-null float64\n",
      "convperim_perim      243610 non-null float64\n",
      "convarea_area        236756 non-null float64\n",
      "symetrieh_area       236756 non-null float64\n",
      "symetriev_area       236756 non-null float64\n",
      "nb1_area             236756 non-null float64\n",
      "nb2_area             236756 non-null float64\n",
      "nb3_area             236756 non-null float64\n",
      "nb1_range            243610 non-null float64\n",
      "nb2_range            243610 non-null float64\n",
      "nb3_range            243610 non-null float64\n",
      "median_mean          243610 non-null int64\n",
      "median_mean_range    243610 non-null float64\n",
      "skeleton_area        236756 non-null float64\n",
      "dtypes: float64(48), int64(17)\n",
      "memory usage: 120.8 MB\n"
     ]
    }
   ],
   "source": [
    "features_nativeDF.info()"
   ]
  },
  {
   "cell_type": "code",
   "execution_count": 13,
   "metadata": {},
   "outputs": [
    {
     "name": "stdout",
     "output_type": "stream",
     "text": [
      "features_nativeDF has 0 object columns\n"
     ]
    }
   ],
   "source": [
    "print(\"features_nativeDF has {} object columns\".format(len(features_nativeDF.select_dtypes(include=['object']).columns)))"
   ]
  },
  {
   "cell_type": "markdown",
   "metadata": {},
   "source": [
    "<h4> We noticed that all the features are numericals, it is a good news because, except for target of \"level2\", it appears that we will not have to deals with categorical varaible."
   ]
  },
  {
   "cell_type": "markdown",
   "metadata": {},
   "source": [
    "<h4> Does features_native contain Nan value? "
   ]
  },
  {
   "cell_type": "code",
   "execution_count": 14,
   "metadata": {},
   "outputs": [
    {
     "name": "stdout",
     "output_type": "stream",
     "text": [
      "features_native contains Nan value: True \n"
     ]
    }
   ],
   "source": [
    "print(\"features_native contains Nan value: {} \".format(features_nativeDF.isnull().values.any()) )"
   ]
  },
  {
   "cell_type": "markdown",
   "metadata": {},
   "source": [
    "<h4> in which column are the Nan value?"
   ]
  },
  {
   "cell_type": "code",
   "execution_count": 15,
   "metadata": {},
   "outputs": [
    {
     "name": "stdout",
     "output_type": "stream",
     "text": [
      "perimareaexc      34428\n",
      "feretareaexc      34428\n",
      "cdexc             34428\n",
      "convarea_area      6854\n",
      "symetrieh_area     6854\n",
      "symetriev_area     6854\n",
      "nb1_area           6854\n",
      "nb2_area           6854\n",
      "nb3_area           6854\n",
      "skeleton_area      6854\n",
      "dtype: int64\n"
     ]
    }
   ],
   "source": [
    "missing_numerical = features_nativeDF.isnull().sum()\n",
    "print(missing_numerical[missing_numerical > 0])"
   ]
  },
  {
   "cell_type": "markdown",
   "metadata": {},
   "source": [
    "<h4> Here, as the Nan value are all in area related column we could resonably replace Nan by zero,"
   ]
  },
  {
   "cell_type": "code",
   "execution_count": 16,
   "metadata": {},
   "outputs": [],
   "source": [
    "features_nativeDF = features_nativeDF.fillna(0)"
   ]
  },
  {
   "cell_type": "markdown",
   "metadata": {},
   "source": []
  },
  {
   "cell_type": "code",
   "execution_count": 17,
   "metadata": {},
   "outputs": [
    {
     "data": {
      "text/html": [
       "<div>\n",
       "<style scoped>\n",
       "    .dataframe tbody tr th:only-of-type {\n",
       "        vertical-align: middle;\n",
       "    }\n",
       "\n",
       "    .dataframe tbody tr th {\n",
       "        vertical-align: top;\n",
       "    }\n",
       "\n",
       "    .dataframe thead th {\n",
       "        text-align: right;\n",
       "    }\n",
       "</style>\n",
       "<table border=\"1\" class=\"dataframe\">\n",
       "  <thead>\n",
       "    <tr style=\"text-align: right;\">\n",
       "      <th></th>\n",
       "      <th>objid</th>\n",
       "      <th>area</th>\n",
       "      <th>convex_area</th>\n",
       "      <th>eccentricity</th>\n",
       "      <th>equivalent_diameter</th>\n",
       "      <th>euler_number</th>\n",
       "      <th>filled_area</th>\n",
       "      <th>inertia_tensor0</th>\n",
       "      <th>inertia_tensor1</th>\n",
       "      <th>inertia_tensor2</th>\n",
       "      <th>...</th>\n",
       "      <th>weighted_moments_normalized6</th>\n",
       "      <th>weighted_moments_normalized7</th>\n",
       "      <th>weighted_moments_normalized8</th>\n",
       "      <th>weighted_moments_normalized9</th>\n",
       "      <th>weighted_moments_normalized10</th>\n",
       "      <th>weighted_moments_normalized11</th>\n",
       "      <th>weighted_moments_normalized12</th>\n",
       "      <th>weighted_moments_normalized13</th>\n",
       "      <th>weighted_moments_normalized14</th>\n",
       "      <th>weighted_moments_normalized15</th>\n",
       "    </tr>\n",
       "  </thead>\n",
       "  <tbody>\n",
       "    <tr>\n",
       "      <th>84578</th>\n",
       "      <td>30956247.0</td>\n",
       "      <td>4836.0</td>\n",
       "      <td>5352.0</td>\n",
       "      <td>0.630302</td>\n",
       "      <td>78.469016</td>\n",
       "      <td>-2</td>\n",
       "      <td>4850.0</td>\n",
       "      <td>405.524835</td>\n",
       "      <td>-101.550224</td>\n",
       "      <td>-101.550224</td>\n",
       "      <td>...</td>\n",
       "      <td>-49.540179</td>\n",
       "      <td>93.387167</td>\n",
       "      <td>3.827137e+05</td>\n",
       "      <td>1252.539628</td>\n",
       "      <td>118.508994</td>\n",
       "      <td>0.526057</td>\n",
       "      <td>278.887140</td>\n",
       "      <td>56.974443</td>\n",
       "      <td>0.268220</td>\n",
       "      <td>0.049459</td>\n",
       "    </tr>\n",
       "    <tr>\n",
       "      <th>108544</th>\n",
       "      <td>30956533.0</td>\n",
       "      <td>1482.0</td>\n",
       "      <td>1614.0</td>\n",
       "      <td>0.904841</td>\n",
       "      <td>43.438934</td>\n",
       "      <td>1</td>\n",
       "      <td>1482.0</td>\n",
       "      <td>282.430835</td>\n",
       "      <td>25.810087</td>\n",
       "      <td>25.810087</td>\n",
       "      <td>...</td>\n",
       "      <td>-376.713236</td>\n",
       "      <td>-72.045882</td>\n",
       "      <td>1.205365e+06</td>\n",
       "      <td>356.407636</td>\n",
       "      <td>242.285048</td>\n",
       "      <td>0.402176</td>\n",
       "      <td>1053.688266</td>\n",
       "      <td>-310.193655</td>\n",
       "      <td>-0.083829</td>\n",
       "      <td>-0.155420</td>\n",
       "    </tr>\n",
       "    <tr>\n",
       "      <th>73582</th>\n",
       "      <td>30956637.0</td>\n",
       "      <td>10408.0</td>\n",
       "      <td>49589.0</td>\n",
       "      <td>0.805300</td>\n",
       "      <td>115.116798</td>\n",
       "      <td>-81</td>\n",
       "      <td>11284.0</td>\n",
       "      <td>3507.420930</td>\n",
       "      <td>1906.958383</td>\n",
       "      <td>1906.958383</td>\n",
       "      <td>...</td>\n",
       "      <td>166585.702544</td>\n",
       "      <td>-24684.957955</td>\n",
       "      <td>2.355970e+06</td>\n",
       "      <td>-97476.426271</td>\n",
       "      <td>18877.486262</td>\n",
       "      <td>-2432.200089</td>\n",
       "      <td>69036.810829</td>\n",
       "      <td>-9931.518159</td>\n",
       "      <td>1585.716397</td>\n",
       "      <td>-237.440904</td>\n",
       "    </tr>\n",
       "    <tr>\n",
       "      <th>41738</th>\n",
       "      <td>30956759.0</td>\n",
       "      <td>3049.0</td>\n",
       "      <td>4366.0</td>\n",
       "      <td>0.952600</td>\n",
       "      <td>62.306560</td>\n",
       "      <td>-10</td>\n",
       "      <td>3129.0</td>\n",
       "      <td>89.662486</td>\n",
       "      <td>0.350959</td>\n",
       "      <td>0.350959</td>\n",
       "      <td>...</td>\n",
       "      <td>7276.862816</td>\n",
       "      <td>-295.371753</td>\n",
       "      <td>1.317470e+05</td>\n",
       "      <td>-1179.102986</td>\n",
       "      <td>226.065417</td>\n",
       "      <td>-7.022880</td>\n",
       "      <td>-147.748105</td>\n",
       "      <td>-7.630606</td>\n",
       "      <td>2.546786</td>\n",
       "      <td>-0.142461</td>\n",
       "    </tr>\n",
       "    <tr>\n",
       "      <th>196868</th>\n",
       "      <td>30956825.0</td>\n",
       "      <td>804.0</td>\n",
       "      <td>1008.0</td>\n",
       "      <td>0.970620</td>\n",
       "      <td>31.995071</td>\n",
       "      <td>1</td>\n",
       "      <td>804.0</td>\n",
       "      <td>17.060549</td>\n",
       "      <td>8.584147</td>\n",
       "      <td>8.584147</td>\n",
       "      <td>...</td>\n",
       "      <td>2500.691955</td>\n",
       "      <td>-301.810980</td>\n",
       "      <td>9.825678e+04</td>\n",
       "      <td>575.088469</td>\n",
       "      <td>185.684297</td>\n",
       "      <td>0.478666</td>\n",
       "      <td>-121.696890</td>\n",
       "      <td>-15.555161</td>\n",
       "      <td>0.112799</td>\n",
       "      <td>-0.072328</td>\n",
       "    </tr>\n",
       "  </tbody>\n",
       "</table>\n",
       "<p>5 rows × 66 columns</p>\n",
       "</div>"
      ],
      "text/plain": [
       "             objid     area  convex_area  eccentricity  equivalent_diameter  \\\n",
       "84578   30956247.0   4836.0       5352.0      0.630302            78.469016   \n",
       "108544  30956533.0   1482.0       1614.0      0.904841            43.438934   \n",
       "73582   30956637.0  10408.0      49589.0      0.805300           115.116798   \n",
       "41738   30956759.0   3049.0       4366.0      0.952600            62.306560   \n",
       "196868  30956825.0    804.0       1008.0      0.970620            31.995071   \n",
       "\n",
       "        euler_number  filled_area  inertia_tensor0  inertia_tensor1  \\\n",
       "84578             -2       4850.0       405.524835      -101.550224   \n",
       "108544             1       1482.0       282.430835        25.810087   \n",
       "73582            -81      11284.0      3507.420930      1906.958383   \n",
       "41738            -10       3129.0        89.662486         0.350959   \n",
       "196868             1        804.0        17.060549         8.584147   \n",
       "\n",
       "        inertia_tensor2              ...                \\\n",
       "84578       -101.550224              ...                 \n",
       "108544        25.810087              ...                 \n",
       "73582       1906.958383              ...                 \n",
       "41738          0.350959              ...                 \n",
       "196868         8.584147              ...                 \n",
       "\n",
       "        weighted_moments_normalized6  weighted_moments_normalized7  \\\n",
       "84578                     -49.540179                     93.387167   \n",
       "108544                   -376.713236                    -72.045882   \n",
       "73582                  166585.702544                 -24684.957955   \n",
       "41738                    7276.862816                   -295.371753   \n",
       "196868                   2500.691955                   -301.810980   \n",
       "\n",
       "        weighted_moments_normalized8  weighted_moments_normalized9  \\\n",
       "84578                   3.827137e+05                   1252.539628   \n",
       "108544                  1.205365e+06                    356.407636   \n",
       "73582                   2.355970e+06                 -97476.426271   \n",
       "41738                   1.317470e+05                  -1179.102986   \n",
       "196868                  9.825678e+04                    575.088469   \n",
       "\n",
       "        weighted_moments_normalized10  weighted_moments_normalized11  \\\n",
       "84578                      118.508994                       0.526057   \n",
       "108544                     242.285048                       0.402176   \n",
       "73582                    18877.486262                   -2432.200089   \n",
       "41738                      226.065417                      -7.022880   \n",
       "196868                     185.684297                       0.478666   \n",
       "\n",
       "        weighted_moments_normalized12  weighted_moments_normalized13  \\\n",
       "84578                      278.887140                      56.974443   \n",
       "108544                    1053.688266                    -310.193655   \n",
       "73582                    69036.810829                   -9931.518159   \n",
       "41738                     -147.748105                      -7.630606   \n",
       "196868                    -121.696890                     -15.555161   \n",
       "\n",
       "        weighted_moments_normalized14  weighted_moments_normalized15  \n",
       "84578                        0.268220                       0.049459  \n",
       "108544                      -0.083829                      -0.155420  \n",
       "73582                     1585.716397                    -237.440904  \n",
       "41738                        2.546786                      -0.142461  \n",
       "196868                       0.112799                      -0.072328  \n",
       "\n",
       "[5 rows x 66 columns]"
      ]
     },
     "execution_count": 17,
     "metadata": {},
     "output_type": "execute_result"
    }
   ],
   "source": [
    "features_skimageDF.sort_values(by=['objid']).head()"
   ]
  },
  {
   "cell_type": "markdown",
   "metadata": {},
   "source": [
    "<h4> Does features_native contain Nan value? "
   ]
  },
  {
   "cell_type": "code",
   "execution_count": 18,
   "metadata": {},
   "outputs": [
    {
     "name": "stdout",
     "output_type": "stream",
     "text": [
      "moments_normalized0             243610\n",
      "moments_normalized1             243610\n",
      "moments_normalized4             243610\n",
      "weighted_moments_normalized0    243610\n",
      "weighted_moments_normalized1    243610\n",
      "weighted_moments_normalized4    243610\n",
      "dtype: int64\n"
     ]
    }
   ],
   "source": [
    "missing_numerical = features_skimageDF.isnull().sum()\n",
    "print(missing_numerical[missing_numerical > 0])"
   ]
  },
  {
   "cell_type": "markdown",
   "metadata": {},
   "source": [
    "<h4> In Those 6 column, every row are Nan so we just have erase it."
   ]
  },
  {
   "cell_type": "code",
   "execution_count": 19,
   "metadata": {},
   "outputs": [],
   "source": [
    "features_skimageDF.drop(columns=[\"moments_normalized0\", \"moments_normalized1\", \"moments_normalized4\", \"weighted_moments_normalized0\", \"weighted_moments_normalized1\", \"weighted_moments_normalized4\"],  inplace=True)"
   ]
  },
  {
   "cell_type": "code",
   "execution_count": 20,
   "metadata": {},
   "outputs": [
    {
     "name": "stdout",
     "output_type": "stream",
     "text": [
      "features_skimage has 0 object columns\n"
     ]
    }
   ],
   "source": [
    "print(\"features_skimage has {} object columns\".format(len(features_skimageDF.select_dtypes(include=['object']).columns)))"
   ]
  },
  {
   "cell_type": "code",
   "execution_count": 21,
   "metadata": {},
   "outputs": [
    {
     "name": "stdout",
     "output_type": "stream",
     "text": [
      "there are 39 differente categories at the second level in the 243609 images (before data cleaning)\n"
     ]
    }
   ],
   "source": [
    "print(\"there are %s differente categories at the second level in the 243609 images (before data cleaning)\" % len(metaDF.level2.unique()))"
   ]
  },
  {
   "cell_type": "code",
   "execution_count": 22,
   "metadata": {},
   "outputs": [
    {
     "name": "stdout",
     "output_type": "stream",
     "text": [
      "there are 65 native features and 60 features from skimage\n"
     ]
    }
   ],
   "source": [
    "print(\"there are %s native features and %s features from skimage\" %(len(features_nativeDF.columns), len(features_skimageDF.columns)))"
   ]
  },
  {
   "cell_type": "markdown",
   "metadata": {},
   "source": [
    "<h4> How the feature are correlated ? It can help us to choose models."
   ]
  },
  {
   "cell_type": "code",
   "execution_count": 28,
   "metadata": {},
   "outputs": [
    {
     "data": {
      "image/png": "[encoded data removed]",
      "text/plain": [
       "<Figure size 1080x1080 with 2 Axes>"
      ]
     },
     "metadata": {},
     "output_type": "display_data"
    }
   ],
   "source": [
    "corr_matrix = features_nativeDF.corr()\n",
    "f, ax = plt.subplots(figsize=(15, 15))\n",
    "sns.heatmap(corr_matrix, vmax=.8, square=True, cmap=\"YlGnBu\");"
   ]
  },
  {
   "cell_type": "markdown",
   "metadata": {},
   "source": [
    "<h4>From this matrice we see that there are some strong linear correlation between some feature like \"convperim\" and \"area\" or \"skeleton_area\" and \"major\" but it is not a global trend."
   ]
  },
  {
   "cell_type": "code",
   "execution_count": 25,
   "metadata": {},
   "outputs": [
    {
     "data": {
      "text/html": [
       "<div>\n",
       "<style scoped>\n",
       "    .dataframe tbody tr th:only-of-type {\n",
       "        vertical-align: middle;\n",
       "    }\n",
       "\n",
       "    .dataframe tbody tr th {\n",
       "        vertical-align: top;\n",
       "    }\n",
       "\n",
       "    .dataframe thead th {\n",
       "        text-align: right;\n",
       "    }\n",
       "</style>\n",
       "<table border=\"1\" class=\"dataframe\">\n",
       "  <thead>\n",
       "    <tr style=\"text-align: right;\">\n",
       "      <th></th>\n",
       "      <th>number</th>\n",
       "    </tr>\n",
       "    <tr>\n",
       "      <th>level2</th>\n",
       "      <th></th>\n",
       "    </tr>\n",
       "  </thead>\n",
       "  <tbody>\n",
       "    <tr>\n",
       "      <th>detritus</th>\n",
       "      <td>138439</td>\n",
       "    </tr>\n",
       "    <tr>\n",
       "      <th>feces</th>\n",
       "      <td>26936</td>\n",
       "    </tr>\n",
       "    <tr>\n",
       "      <th>Neoceratium</th>\n",
       "      <td>14014</td>\n",
       "    </tr>\n",
       "    <tr>\n",
       "      <th>nauplii (Crustacea)</th>\n",
       "      <td>9293</td>\n",
       "    </tr>\n",
       "    <tr>\n",
       "      <th>badfocus (artefact)</th>\n",
       "      <td>7848</td>\n",
       "    </tr>\n",
       "    <tr>\n",
       "      <th>silks</th>\n",
       "      <td>5629</td>\n",
       "    </tr>\n",
       "    <tr>\n",
       "      <th>Copepoda</th>\n",
       "      <td>5141</td>\n",
       "    </tr>\n",
       "    <tr>\n",
       "      <th>Thalassionema</th>\n",
       "      <td>5117</td>\n",
       "    </tr>\n",
       "    <tr>\n",
       "      <th>rods</th>\n",
       "      <td>4044</td>\n",
       "    </tr>\n",
       "    <tr>\n",
       "      <th>multiple (other)</th>\n",
       "      <td>3261</td>\n",
       "    </tr>\n",
       "    <tr>\n",
       "      <th>Codonellopsis (Dictyocystidae)</th>\n",
       "      <td>2888</td>\n",
       "    </tr>\n",
       "    <tr>\n",
       "      <th>Protoperidinium</th>\n",
       "      <td>2256</td>\n",
       "    </tr>\n",
       "    <tr>\n",
       "      <th>Tintinnidiidae</th>\n",
       "      <td>2227</td>\n",
       "    </tr>\n",
       "    <tr>\n",
       "      <th>Rhizosolenids</th>\n",
       "      <td>2160</td>\n",
       "    </tr>\n",
       "    <tr>\n",
       "      <th>Chaetoceros</th>\n",
       "      <td>2105</td>\n",
       "    </tr>\n",
       "    <tr>\n",
       "      <th>artefact</th>\n",
       "      <td>1849</td>\n",
       "    </tr>\n",
       "    <tr>\n",
       "      <th>pollen</th>\n",
       "      <td>1821</td>\n",
       "    </tr>\n",
       "    <tr>\n",
       "      <th>Codonaria</th>\n",
       "      <td>845</td>\n",
       "    </tr>\n",
       "    <tr>\n",
       "      <th>chainlarge</th>\n",
       "      <td>751</td>\n",
       "    </tr>\n",
       "    <tr>\n",
       "      <th>Undellidae</th>\n",
       "      <td>710</td>\n",
       "    </tr>\n",
       "    <tr>\n",
       "      <th>egg (other)</th>\n",
       "      <td>685</td>\n",
       "    </tr>\n",
       "    <tr>\n",
       "      <th>Hemiaulus</th>\n",
       "      <td>670</td>\n",
       "    </tr>\n",
       "    <tr>\n",
       "      <th>Dictyocysta</th>\n",
       "      <td>549</td>\n",
       "    </tr>\n",
       "    <tr>\n",
       "      <th>Dinophysiales</th>\n",
       "      <td>525</td>\n",
       "    </tr>\n",
       "    <tr>\n",
       "      <th>Annelida</th>\n",
       "      <td>481</td>\n",
       "    </tr>\n",
       "    <tr>\n",
       "      <th>Rhabdonella</th>\n",
       "      <td>367</td>\n",
       "    </tr>\n",
       "    <tr>\n",
       "      <th>Stenosemella</th>\n",
       "      <td>357</td>\n",
       "    </tr>\n",
       "    <tr>\n",
       "      <th>Coscinodiscids</th>\n",
       "      <td>334</td>\n",
       "    </tr>\n",
       "    <tr>\n",
       "      <th>Retaria</th>\n",
       "      <td>257</td>\n",
       "    </tr>\n",
       "    <tr>\n",
       "      <th>Pleurosigma</th>\n",
       "      <td>191</td>\n",
       "    </tr>\n",
       "    <tr>\n",
       "      <th>Ceratocorys horrida</th>\n",
       "      <td>186</td>\n",
       "    </tr>\n",
       "    <tr>\n",
       "      <th>centric</th>\n",
       "      <td>145</td>\n",
       "    </tr>\n",
       "    <tr>\n",
       "      <th>Odontella (Mediophyceae)</th>\n",
       "      <td>131</td>\n",
       "    </tr>\n",
       "    <tr>\n",
       "      <th>Asterionellopsis</th>\n",
       "      <td>117</td>\n",
       "    </tr>\n",
       "    <tr>\n",
       "      <th>Cyttarocylis</th>\n",
       "      <td>100</td>\n",
       "    </tr>\n",
       "    <tr>\n",
       "      <th>Lithodesmioides</th>\n",
       "      <td>68</td>\n",
       "    </tr>\n",
       "    <tr>\n",
       "      <th>tempChaetoceros danicus</th>\n",
       "      <td>61</td>\n",
       "    </tr>\n",
       "    <tr>\n",
       "      <th>Xystonellidae</th>\n",
       "      <td>37</td>\n",
       "    </tr>\n",
       "    <tr>\n",
       "      <th>Bacteriastrum</th>\n",
       "      <td>12</td>\n",
       "    </tr>\n",
       "  </tbody>\n",
       "</table>\n",
       "</div>"
      ],
      "text/plain": [
       "                                number\n",
       "level2                                \n",
       "detritus                        138439\n",
       "feces                            26936\n",
       "Neoceratium                      14014\n",
       "nauplii (Crustacea)               9293\n",
       "badfocus (artefact)               7848\n",
       "silks                             5629\n",
       "Copepoda                          5141\n",
       "Thalassionema                     5117\n",
       "rods                              4044\n",
       "multiple (other)                  3261\n",
       "Codonellopsis (Dictyocystidae)    2888\n",
       "Protoperidinium                   2256\n",
       "Tintinnidiidae                    2227\n",
       "Rhizosolenids                     2160\n",
       "Chaetoceros                       2105\n",
       "artefact                          1849\n",
       "pollen                            1821\n",
       "Codonaria                          845\n",
       "chainlarge                         751\n",
       "Undellidae                         710\n",
       "egg (other)                        685\n",
       "Hemiaulus                          670\n",
       "Dictyocysta                        549\n",
       "Dinophysiales                      525\n",
       "Annelida                           481\n",
       "Rhabdonella                        367\n",
       "Stenosemella                       357\n",
       "Coscinodiscids                     334\n",
       "Retaria                            257\n",
       "Pleurosigma                        191\n",
       "Ceratocorys horrida                186\n",
       "centric                            145\n",
       "Odontella (Mediophyceae)           131\n",
       "Asterionellopsis                   117\n",
       "Cyttarocylis                       100\n",
       "Lithodesmioides                     68\n",
       "tempChaetoceros danicus             61\n",
       "Xystonellidae                       37\n",
       "Bacteriastrum                       12"
      ]
     },
     "execution_count": 25,
     "metadata": {},
     "output_type": "execute_result"
    }
   ],
   "source": [
    "nb_metaDF =  metaDF[[\"level2\", \"id\"]].groupby(\"level2\").count()\n",
    "nb_metaDF = nb_metaDF.rename(index=str, columns={\"id\": \"number\"})\n",
    "nb_metaDF = nb_metaDF.sort_values(by=['number'], ascending=False)\n",
    "nb_metaDF"
   ]
  },
  {
   "cell_type": "code",
   "execution_count": 41,
   "metadata": {},
   "outputs": [
    {
     "data": {
      "text/plain": [
       "<matplotlib.axes._subplots.AxesSubplot at 0x7fcf921af278>"
      ]
     },
     "execution_count": 41,
     "metadata": {},
     "output_type": "execute_result"
    },
    {
     "data": {
      "image/png": "[encoded data removed]",
      "text/plain": [
       "<Figure size 1008x1008 with 1 Axes>"
      ]
     },
     "metadata": {},
     "output_type": "display_data"
    }
   ],
   "source": [
    "nb_metaDF.plot.pie(y = \"number\", figsize=(14,14), use_index = False, title = \"Classses distribution\" )\n"
   ]
  },
  {
   "cell_type": "markdown",
   "metadata": {},
   "source": [
    "<h4> we see in this figure that the label in the dataset are not equaly distributed:\n",
    "For exemple, 138439 of the photo are not-living detritus,  in other words 57% of the picture show not-living detritus.\n"
   ]
  },
  {
   "cell_type": "markdown",
   "metadata": {},
   "source": [
    "# 1.2 data exploration on the images for convutional network\n",
    "\n"
   ]
  },
  {
   "cell_type": "markdown",
   "metadata": {},
   "source": [
    "\n",
    "### let's have a look at the image set "
   ]
  },
  {
   "cell_type": "markdown",
   "metadata": {},
   "source": [
    "### first print some random images"
   ]
  },
  {
   "cell_type": "code",
   "execution_count": 41,
   "metadata": {},
   "outputs": [
    {
     "name": "stdout",
     "output_type": "stream",
     "text": [
      "imgs/32566136.jpg has a size of  (73, 107), encoded in the mode L and a format JPEG\n"
     ]
    },
    {
     "data": {
      "image/png": "[encoded data removed]",
      "text/plain": [
       "<Figure size 432x288 with 1 Axes>"
      ]
     },
     "metadata": {},
     "output_type": "display_data"
    },
    {
     "name": "stdout",
     "output_type": "stream",
     "text": [
      "imgs/32759413.jpg has a size of  (56, 47), encoded in the mode L and a format JPEG\n"
     ]
    },
    {
     "data": {
      "image/png": "[encoded data removed]",
      "text/plain": [
       "<Figure size 432x288 with 1 Axes>"
      ]
     },
     "metadata": {},
     "output_type": "display_data"
    },
    {
     "name": "stdout",
     "output_type": "stream",
     "text": [
      "imgs/32692082.jpg has a size of  (472, 377), encoded in the mode L and a format JPEG\n"
     ]
    },
    {
     "data": {
      "image/png": "[encoded data removed]",
      "text/plain": [
       "<Figure size 432x288 with 1 Axes>"
      ]
     },
     "metadata": {},
     "output_type": "display_data"
    },
    {
     "name": "stdout",
     "output_type": "stream",
     "text": [
      "imgs/32647290.jpg has a size of  (74, 151), encoded in the mode L and a format JPEG\n"
     ]
    },
    {
     "data": {
      "image/png": "[encoded data removed]",
      "text/plain": [
       "<Figure size 432x288 with 1 Axes>"
      ]
     },
     "metadata": {},
     "output_type": "display_data"
    },
    {
     "name": "stdout",
     "output_type": "stream",
     "text": [
      "imgs/32704591.jpg has a size of  (43, 55), encoded in the mode L and a format JPEG\n"
     ]
    },
    {
     "data": {
      "image/png": "[encoded data removed]",
      "text/plain": [
       "<Figure size 432x288 with 1 Axes>"
      ]
     },
     "metadata": {},
     "output_type": "display_data"
    }
   ],
   "source": [
    "image_names = list(img_files.keys())\n",
    "for i in range(5):\n",
    "    image_name = random.choice(image_names)\n",
    "    im = Image.open(img_files[image_name])\n",
    "    print(image_name+ \" has a size of  {}, encoded in the mode {} and a format {}\".format(str(im.size),im.mode, im.format ) )\n",
    "    plt.imshow(np.asarray(Image.open(img_files[image_name])))\n",
    "    plt.show()\n",
    "    Image.open(img_files[image_name]).show()\n",
    "\n",
    "\n",
    "\n",
    "\n"
   ]
  },
  {
   "cell_type": "code",
   "execution_count": 42,
   "metadata": {},
   "outputs": [
    {
     "data": {
      "text/plain": [
       "32733574"
      ]
     },
     "execution_count": 42,
     "metadata": {},
     "output_type": "execute_result"
    }
   ],
   "source": [
    "int(image_names[0].split('/')[1].split('.')[0])"
   ]
  },
  {
   "cell_type": "markdown",
   "metadata": {},
   "source": [
    "<h4> All the images seems to be encoded with the mode L but have different size. Let's now have a look at the size repartition in our set, it will help us to choose how to resize our images <h4>"
   ]
  },
  {
   "cell_type": "code",
   "execution_count": 43,
   "metadata": {},
   "outputs": [
    {
     "name": "stdout",
     "output_type": "stream",
     "text": [
      "the width distribution of the set of image has a mean of 86.62893559377694, a median of 67.0, a standart deviation of 62.14625821342588 and coefficient of variation of 0.7173845296315773 \n",
      " the minimal  width is 2 and the maximal width is 972 \n"
     ]
    }
   ],
   "source": [
    "image_names = list(img_files.keys())\n",
    "images_width = np.arange(len(image_names))\n",
    "i = 0\n",
    "for name in image_names:\n",
    "    images_width[i] = Image.open(img_files[name]).width\n",
    "    i += 1\n",
    "print(\"the width distribution of the set of image has a mean of {}, a median of {}, a standart deviation of {} and coefficient of variation of {} \\n the minimal  width is {} and the maximal width is {} \".format(\n",
    "           np.mean(images_width), np.median(images_width) ,np.std(images_width), np.std(images_width)/np.mean(images_width), np.min(images_width), np.max(images_width)))\n",
    "    "
   ]
  },
  {
   "cell_type": "code",
   "execution_count": 44,
   "metadata": {},
   "outputs": [
    {
     "data": {
      "image/png": "[encoded data removed]",
      "text/plain": [
       "<Figure size 432x288 with 1 Axes>"
      ]
     },
     "metadata": {},
     "output_type": "display_data"
    }
   ],
   "source": [
    "fig, ax = plt.subplots()\n",
    "n_bins = 1000000\n",
    "color = ['red', 'gold', 'chartreuse', 'm', 'navy']\n",
    "\n",
    "# Plot the cumulative distribution\n",
    "ax.hist(images_width, n_bins, density=True, histtype='step',\n",
    "                           cumulative=False, label='ECDF ')\n",
    "for i, quantile in enumerate([5, 50, 95]):\n",
    "    \n",
    "    ax.axvline(np.percentile(images_width, quantile, axis=0), label='%.0fth perc.' % (quantile), color  = color[i-1])\n",
    "#ax.semilogx()\n",
    "ax.set_title('width distribution')\n",
    "ax.set_xlabel('width ')\n",
    "ax.set_ylabel('ECDF')\n",
    "ax.legend()\n",
    "plt.show()\n",
    "plt.show()"
   ]
  },
  {
   "cell_type": "markdown",
   "metadata": {},
   "source": [
    "the width distribution of the set of image has a mean of 86.63, a median of 67.0, a standart deviation of 62.15 and coefficient of variation of 0.72\n",
    " the minimal  width is 2 and the maximal width is 972 as computed above. These informations are going to be usefull when we will resize image to use convutional network. \n"
   ]
  },
  {
   "cell_type": "code",
   "execution_count": 46,
   "metadata": {},
   "outputs": [
    {
     "name": "stdout",
     "output_type": "stream",
     "text": [
      "the height distribution of the set of image has a mean of 109.33858216000985, a median of 87.0, a standart deviation of 71.93041996934804 and coefficient of variation of 0.6578685999794892\n",
      " the minimal  height is 2 and the maximal height is 739 \n"
     ]
    }
   ],
   "source": [
    "images_height = np.arange(len(image_names))\n",
    "i = 0\n",
    "for name in image_names:\n",
    "    images_height[i] = Image.open(img_files[name]).height\n",
    "    i += 1\n",
    "print(\"the height distribution of the set of image has a mean of {}, a median of {}, a standart deviation of {} and coefficient of variation of {}\\n the minimal  height is {} and the maximal height is {} \".format(\n",
    "       np.mean(images_height), np.median(images_height) ,np.std(images_height), np.std(images_height)/np.mean(images_height), np.min(images_height), np.max(images_height)))"
   ]
  },
  {
   "cell_type": "code",
   "execution_count": 47,
   "metadata": {},
   "outputs": [
    {
     "data": {
      "image/png": "[encoded data removed]",
      "text/plain": [
       "<Figure size 432x288 with 1 Axes>"
      ]
     },
     "metadata": {},
     "output_type": "display_data"
    }
   ],
   "source": [
    "fig, ax = plt.subplots()\n",
    "n_bins = 1000000\n",
    "color = ['red', 'gold', 'chartreuse', 'm', 'navy']\n",
    "\n",
    "# Plot the cumulative distribution\n",
    "ax.hist(images_height, n_bins, density=True, histtype='step',\n",
    "                           cumulative=False, label='ECDF ')\n",
    "for i, quantile in enumerate([5, 50, 95]):\n",
    "    \n",
    "    ax.axvline(np.percentile(images_height, quantile, axis=0), label='%.0fth perc.' % (quantile), color  = color[i-1])\n",
    "#ax.semilogx()\n",
    "ax.set_title('height distribution')\n",
    "ax.set_xlabel('height')\n",
    "ax.set_ylabel('ECDF')\n",
    "ax.legend()\n",
    "plt.show()\n",
    "plt.show()"
   ]
  },
  {
   "cell_type": "markdown",
   "metadata": {},
   "source": [
    "the height distribution of the set of image has a mean of 109.33, a median of 87.0, a standart deviation of 71.930 and coefficient of variation of 0.65\n",
    " the minimal  height is 2 and the maximal height is 739 \n"
   ]
  },
  {
   "cell_type": "markdown",
   "metadata": {},
   "source": [
    "<div class=\"\">\n",
    "    <h3>2. Data Pre-processing</h3>\n",
    "</div>"
   ]
  },
  {
   "cell_type": "markdown",
   "metadata": {},
   "source": [
    "### 2.1  Data Pre-processing on feature\n",
    "<h4>In this part we will try to solve the issue of unbalanced data. Indeed the class distribution is unbalanced, it can influance the performance of some model. Beside for some classes, there are very few example like for Bacteriastrum. there are hardly enougth data to train a model and validate it after. We will to increase the data set size to solve this issue. Then we will check if the new added data enable improvement and if it is relevant to use it."
   ]
  },
  {
   "cell_type": "code",
   "execution_count": 26,
   "metadata": {},
   "outputs": [],
   "source": [
    "from sklearn import datasets\n",
    "from sklearn.ensemble import GradientBoostingClassifier\n",
    "from sklearn.linear_model import LogisticRegression\n",
    "from sklearn.metrics import f1_score\n",
    "from sklearn.model_selection import train_test_split\n",
    "from sklearn.preprocessing import LabelEncoder\n",
    "from sklearn.preprocessing import StandardScaler\n",
    "from sklearn.tree import DecisionTreeClassifier\n",
    "\n",
    "from imblearn.datasets import make_imbalance\n",
    "from imblearn.under_sampling import NearMiss\n",
    "from imblearn.metrics import classification_report_imbalanced\n",
    "from imblearn.over_sampling import SMOTE\n",
    "from imblearn.under_sampling import NearMiss\n",
    "\n",
    "import time\n",
    "\n",
    "from joblib import dump, load"
   ]
  },
  {
   "cell_type": "markdown",
   "metadata": {},
   "source": [
    "<h4> First we gather all our feature together. We are going to try with native and skimage feature to see which one give the best results"
   ]
  },
  {
   "cell_type": "code",
   "execution_count": 27,
   "metadata": {},
   "outputs": [],
   "source": [
    "objidDF = metaDF[[\"objid\", \"level2\"]]\n",
    "input_data = features_nativeDF.merge(objidDF, on='objid', how='inner', sort=False)\n",
    "y = input_data[\"level2\"]\n",
    "X = input_data.drop(columns=[\"objid\", \"level2\"],  inplace=False)\n",
    "\n",
    "### data using skimage\n",
    "\n",
    "input_data_skimage = features_skimageDF.merge(objidDF, on='objid', how='inner', sort=False)\n",
    "y_skimage = input_data[\"level2\"]\n",
    "X_skimage = input_data.drop(columns=[\"objid\", \"level2\"],  inplace=False)"
   ]
  },
  {
   "cell_type": "markdown",
   "metadata": {},
   "source": [
    " Now let's try to solve the unballanced data set issue. First the are some categorical where we have too much data like for \"detritus\" and if we remove some or model will train faster and we will still have enougth (we hope ) data in order to have a good result. In the other hand for some categories we don't have enought data and we made the choice to up-sample it using the SMOTE algorithm (Synthetic Minority Oversampling Technique).\n",
    "SMOTE uses the k-nearest-neighbors algorithm to create a similar, but randomly tweaked, new observations for minority category."
   ]
  },
  {
   "cell_type": "markdown",
   "metadata": {},
   "source": [
    "<h4> we remove example when there are too many data for a class"
   ]
  },
  {
   "cell_type": "code",
   "execution_count": 28,
   "metadata": {},
   "outputs": [],
   "source": [
    "RANDOM_STATE = 41\n",
    "list_label =  metaDF[\"level2\"].unique()\n",
    "sampling_strategy = {}\n",
    "for i in range(0,39):\n",
    "    if int(nb_metaDF.loc[list_label[i]]) > 3000:\n",
    "        sampling_strategy[list_label[i]] = 3000\n",
    "    else:\n",
    "          sampling_strategy[list_label[i]] = int(nb_metaDF.loc[list_label[i]])\n",
    "\n",
    "\n",
    "X_light, y_light = make_imbalance(X, y, sampling_strategy=sampling_strategy, random_state=RANDOM_STATE)\n",
    "X_light_skimage, y_light_skimage = make_imbalance(X_skimage, y_skimage, sampling_strategy=sampling_strategy, random_state=RANDOM_STATE)\n"
   ]
  },
  {
   "cell_type": "markdown",
   "metadata": {},
   "source": [
    "<h4>Some questions come up when using the SMOTE algorithm: </h4>\n",
    "\n",
    "First, is it relevant to use it here? Indeed if a feature is very similar for a particular category (low variance), the SMOTE algorithm is going to generate a relevant synthetic feature for this class. If a feature is completly \"random\" for the category (hight variance), the SMOTE algorithm is going to generate a more or less \"random\" feature too. Finaly, SMOTE algorithm copy what it is seen in real data.\n",
    "Then, is it relevant to generate 3000 synthetic datas from 12 real example? If there is too less data for a category, we choose to not generate too many data to avoid overfitting, because SMOTE algorithm copy just some particular case to generate other data."
   ]
  },
  {
   "cell_type": "code",
   "execution_count": 29,
   "metadata": {},
   "outputs": [],
   "source": [
    "#Here we choose how many synthetic data we generate for each class\n",
    "for i in range(0,39):\n",
    "    if  sampling_strategy[list_label[i]] < 100 :\n",
    "        sampling_strategy[list_label[i]] = int(nb_metaDF.loc[list_label[i]]) * 10\n",
    "    else:\n",
    "        sampling_strategy[list_label[i]] = 3000\n"
   ]
  },
  {
   "cell_type": "code",
   "execution_count": 30,
   "metadata": {},
   "outputs": [],
   "source": [
    "X_resampled, y_resampled = SMOTE(sampling_strategy=sampling_strategy).fit_resample(X_light, y_light)\n",
    "X_resampled_skimage, y_resampled_skimage = SMOTE(sampling_strategy=sampling_strategy).fit_resample(X_light_skimage, y_light_skimage)"
   ]
  },
  {
   "cell_type": "markdown",
   "metadata": {},
   "source": [
    "<div class=\"\">\n",
    "    <h3>2.2 Data Pre-processing for Convolutional Neural Network (CNN)</h3>\n",
    "</div>"
   ]
  },
  {
   "cell_type": "code",
   "execution_count": 10,
   "metadata": {},
   "outputs": [],
   "source": [
    "import os\n",
    "from random import shuffle"
   ]
  },
  {
   "cell_type": "markdown",
   "metadata": {},
   "source": [
    "Let's get our labels in a list."
   ]
  },
  {
   "cell_type": "code",
   "execution_count": 11,
   "metadata": {},
   "outputs": [],
   "source": [
    "metaDF['objid'] = metaDF['objid'].astype(np.int64, errors='ignore')\n",
    "metaDF = metaDF.dropna(subset= ['level2'])\n",
    "list_label  = list(metaDF['level2'].unique())\n",
    "\n"
   ]
  },
  {
   "cell_type": "markdown",
   "metadata": {},
   "source": [
    "## Data Augmentation for underrepresented classes \n"
   ]
  },
  {
   "cell_type": "markdown",
   "metadata": {},
   "source": [
    "First of all we wanted to see how imbalanced was our datasets by retrieving the number of objects for each class, as it can be a problem in machine learning, especially for classes with very low number of samples."
   ]
  },
  {
   "cell_type": "code",
   "execution_count": 12,
   "metadata": {},
   "outputs": [
    {
     "name": "stdout",
     "output_type": "stream",
     "text": [
      "detritus  has  138439 images\n",
      "Rhizosolenids  has  2160 images\n",
      "silks  has  5629 images\n",
      "feces  has  26936 images\n",
      "Codonaria  has  845 images\n",
      "Asterionellopsis  has  117 images\n",
      "Codonellopsis (Dictyocystidae)  has  2888 images\n",
      "Dictyocysta  has  549 images\n",
      "Neoceratium  has  14014 images\n",
      "Copepoda  has  5141 images\n",
      "Coscinodiscids  has  334 images\n",
      "nauplii (Crustacea)  has  9293 images\n",
      "Protoperidinium  has  2256 images\n",
      "Annelida  has  481 images\n",
      "Ceratocorys horrida  has  186 images\n",
      "Dinophysiales  has  525 images\n",
      "Chaetoceros  has  2105 images\n",
      "Thalassionema  has  5117 images\n",
      "Undellidae  has  710 images\n",
      "rods  has  4044 images\n",
      "Hemiaulus  has  670 images\n",
      "Tintinnidiidae  has  2227 images\n",
      "pollen  has  1821 images\n",
      "Retaria  has  257 images\n",
      "multiple (other)  has  3261 images\n",
      "Rhabdonella  has  367 images\n",
      "chainlarge  has  751 images\n",
      "artefact  has  1849 images\n",
      "Pleurosigma  has  191 images\n",
      "Odontella (Mediophyceae)  has  131 images\n",
      "centric  has  145 images\n",
      "Cyttarocylis  has  100 images\n",
      "badfocus (artefact)  has  7848 images\n",
      "egg (other)  has  685 images\n",
      "Stenosemella  has  357 images\n",
      "Xystonellidae  has  37 images\n",
      "Lithodesmioides  has  68 images\n",
      "tempChaetoceros danicus  has  61 images\n",
      "Bacteriastrum  has  12 images\n"
     ]
    }
   ],
   "source": [
    "for label in list_label:\n",
    "        \n",
    "        print(label, \" has \", int(nb_metaDF.loc[label]),\"images\")\n",
    "        "
   ]
  },
  {
   "cell_type": "markdown",
   "metadata": {},
   "source": [
    "We see that our dataset is very skewed, with very few 'Bacteriastrum' (12) and a lot of Detritus (138439). We remove some data of the classes that are overrepresented, both to have less imbalances and faster training speed.\n",
    "We choose to downsample to $7000$ images maximum arbitrarily, because we do not want to have to few data as detritus for example have a large variety of shapes and we want to keep a representative sample. \n",
    "The maximum number of samples per class could be a hyperparameter that changes our results significantly but we do not analyse it here."
   ]
  },
  {
   "cell_type": "code",
   "execution_count": 13,
   "metadata": {},
   "outputs": [],
   "source": [
    "from sklearn.utils import resample\n",
    "n_samples = 7000\n",
    "\n",
    "\n",
    "overrep_cat=['detritus', 'feces' , 'Neoceratium', 'badfocus (artefact)', 'nauplii (Crustacea)' ]\n",
    "\n",
    "#overrep_cat=['detritus', 'feces' , ]\n",
    "\n",
    "\n",
    "for label in overrep_cat:\n",
    "    overrepDF = metaDF[metaDF['level2'] == label]\n",
    "    metaDF = metaDF.drop(metaDF[metaDF[\"level2\"] == label].index)\n",
    "\n",
    "    \n",
    "\n",
    "    overrepDF = resample(overrepDF, \n",
    "                                 replace=False,    # sample without replacement\n",
    "                                 n_samples= n_samples,     # to match minority class\n",
    "                                 random_state=123) # reproducible results\n",
    " \n",
    "    # Combine minority class with downsampled majority class\n",
    "    metaDF = pd.concat([metaDF, overrepDF])\n",
    "    "
   ]
  },
  {
   "cell_type": "markdown",
   "metadata": {},
   "source": [
    "An imbalanced data is a problem for these reasons :\n",
    "- We don’t get optimized results for the classes which are unbalanced in real time as the model/algorithm never gets sufficient look at the underlying classes\n",
    "- It creates a problem of making a validation or test sample as its difficult to have representation across classes in case number of observation for few classes is extremely low\n",
    "\n",
    "\n",
    "<br>As the data we have is imbalanced, we will use data augmentation provided by keras to do images augmentation on fly when training our neural network. \n",
    "At first we tried to do it manually but it was not efficient and consumes memory when it is not needed.\n",
    "\n",
    "A data generator is run in parallel to the model, for efficiency. This allows you to do real-time data augmentation on images on CPU in parallel to training your model on GPU.\n",
    "\n",
    "\n",
    "<b> In addition to this data generator, we use later on $#sklearn.utils.class_weight.compute_sample_weight#$ and use it in Sequential.fit method of keras to \"pay more attention\" to samples from an under-represented class.</b>"
   ]
  },
  {
   "cell_type": "code",
   "execution_count": 14,
   "metadata": {},
   "outputs": [
    {
     "name": "stderr",
     "output_type": "stream",
     "text": [
      "Using TensorFlow backend.\n"
     ]
    }
   ],
   "source": [
    "from keras.preprocessing.image import ImageDataGenerator\n",
    "\n",
    "datagen = ImageDataGenerator(\n",
    "    featurewise_center=True,   # used to compute quantities required for featurewise normalization (std, mean)\n",
    "    featurewise_std_normalization=True,  # used to compute quantities required for featurewise normalization (std, mean)\n",
    "    rotation_range=20,      #value in degrees, range within which to randomly rotate pictures\n",
    "    width_shift_range=0.2,   #range (as a fraction of total width or height) within which to randomly translate pictures horizontally\n",
    "    height_shift_range=0.2, #range (as a fraction of total width or height) within which to randomly translate pictures vertically\n",
    "    horizontal_flip=True,   #horizontal_flip is for randomly flipping half of the images horizontally \n",
    "    vertical_flip=True)\n",
    "\n",
    "\n",
    "\n",
    "\n"
   ]
  },
  {
   "cell_type": "markdown",
   "metadata": {},
   "source": [
    "This data generator will allow us to perform flip on both directions, rotations from angles -20 to 20 degrees, shifts ... as our data is too imbalanced.\n",
    "Also we center and standardize featurewise in order to get better training results when applying our neural networks. Because of these two operations, we will also need to normalize the validation/ test data that will be our input to make predictions."
   ]
  },
  {
   "cell_type": "markdown",
   "metadata": {},
   "source": [
    "## Loading our data\n",
    "\n",
    "We load our data images and the labels corresponding to them in a list "
   ]
  },
  {
   "cell_type": "code",
   "execution_count": 15,
   "metadata": {},
   "outputs": [],
   "source": [
    "IMG_SIZE = 50\n",
    "import time\n",
    "\n",
    "objids = list(metaDF['objid'])\n",
    "labels = list(metaDF['level2'])\n",
    "images=[]\n",
    "\n",
    "\n",
    "\n",
    "for i in range (len(objids)):\n",
    "    img = Image.open(img_files['imgs/'+ str(objids[i])+ '.jpg'])\n",
    "    img = img.resize((IMG_SIZE, IMG_SIZE))\n",
    "    img = np.array(img)\n",
    "    #We perform standardization and normalization in order to get better results with our neural networks\n",
    "    images.append([img,labels[i]]) #Converting in float16 so that it doesn't take too much memory\n",
    "    \n",
    "\n",
    "        \n",
    "\n",
    "#We shuffle images to have randomly distributed categories over the training data\n",
    "shuffle(images)"
   ]
  },
  {
   "cell_type": "code",
   "execution_count": 16,
   "metadata": {},
   "outputs": [
    {
     "data": {
      "text/plain": [
       "' MANUAL DATA AUGMENTATION\\n\\n\\nPIECE OF CODE WE DONT USE ANYMORE BECAUSE IT IS NOT EFFICIENT\\n\\n\\nfrom scipy import ndimage\\n\\nmin_num_images=3000\\n\\nformer_distribution = {}\\nnew_distribution = {}\\n\\nfor label in list_label:\\n        \\n        nb_img_available = int(nb_metaDF.loc[label])\\n        former_distribution[label] = nb_img_available\\n        \\n        \\n        nb_img_final = nb_img_available\\n        \\n        if nb_img_available < min_num_images:\\n            i = 0\\n            \\n            \\n            while nb_img_final< min_num_images and i < nb_img_available : #Here we pick random images and rotate them 10 times each\\n                objid = metaDF[metaDF[\"level2\"] == label].iloc[i%nb_img_available].objid\\n                img = Image.open(img_files[\\'imgs/\\'+ str(objids[i])+ \\'.jpg\\'])\\n                img = img.resize((IMG_SIZE, IMG_SIZE))\\n                i+=1\\n                \\n                for k in range (3):\\n                    \\n                    \\n                    #rotate with random angle and then perform transformations\\n                    angle = random.randint(1,180)\\n                    img =  ndimage.rotate(img, angle, reshape=False, cval = 255) ## 255 to reshape in white\\n                    images.append([((img-np.mean(img))/np.std(img)).astype(np.float16),labels[i]])\\n                    \\n                    #flip image horizontally\\n                    fliplr_img = np.array(img)\\n                    fliplr_img = np.fliplr(fliplr_img)\\n                    images.append([fliplr_img, label])\\n                    images.append([((fliplr_img-np.mean(fliplr_img))/np.std(fliplr_img)).astype(np.float16), label])\\n                    \\n                    \\n                    #flip image vertically\\n                    flipud_img = np.array(img)\\n                    flipud_img = np.flipud(flipud_img)\\n                    images.append([((flipud_img-np.mean(flipud_img))/np.std(flipud_img)).astype(np.float16), label])\\n                    \\n                    #flip image vertically and horizontally\\n                    flip_img = np.array(img)\\n                    flip_img = np.flipud(fliplr_img)\\n                    images.append([((flip_img-np.mean(flip_img))/np.std(flip_img)).astype(np.float16), label])\\n                    \\n                    nb_img_final+= 4\\n            \\n            print(label, \"has \", nb_img_final , \" sample images after data augmentation\")\\n        new_distribution[label] = nb_img_final\\n        \\n'"
      ]
     },
     "execution_count": 16,
     "metadata": {},
     "output_type": "execute_result"
    }
   ],
   "source": [
    "\"\"\" MANUAL DATA AUGMENTATION\n",
    "\n",
    "\n",
    "PIECE OF CODE WE DONT USE ANYMORE BECAUSE IT IS NOT EFFICIENT\n",
    "\n",
    "\n",
    "from scipy import ndimage\n",
    "\n",
    "min_num_images=3000\n",
    "\n",
    "former_distribution = {}\n",
    "new_distribution = {}\n",
    "\n",
    "for label in list_label:\n",
    "        \n",
    "        nb_img_available = int(nb_metaDF.loc[label])\n",
    "        former_distribution[label] = nb_img_available\n",
    "        \n",
    "        \n",
    "        nb_img_final = nb_img_available\n",
    "        \n",
    "        if nb_img_available < min_num_images:\n",
    "            i = 0\n",
    "            \n",
    "            \n",
    "            while nb_img_final< min_num_images and i < nb_img_available : #Here we pick random images and rotate them 10 times each\n",
    "                objid = metaDF[metaDF[\"level2\"] == label].iloc[i%nb_img_available].objid\n",
    "                img = Image.open(img_files['imgs/'+ str(objids[i])+ '.jpg'])\n",
    "                img = img.resize((IMG_SIZE, IMG_SIZE))\n",
    "                i+=1\n",
    "                \n",
    "                for k in range (3):\n",
    "                    \n",
    "                    \n",
    "                    #rotate with random angle and then perform transformations\n",
    "                    angle = random.randint(1,180)\n",
    "                    img =  ndimage.rotate(img, angle, reshape=False, cval = 255) ## 255 to reshape in white\n",
    "                    images.append([((img-np.mean(img))/np.std(img)).astype(np.float16),labels[i]])\n",
    "                    \n",
    "                    #flip image horizontally\n",
    "                    fliplr_img = np.array(img)\n",
    "                    fliplr_img = np.fliplr(fliplr_img)\n",
    "                    images.append([fliplr_img, label])\n",
    "                    images.append([((fliplr_img-np.mean(fliplr_img))/np.std(fliplr_img)).astype(np.float16), label])\n",
    "                    \n",
    "                    \n",
    "                    #flip image vertically\n",
    "                    flipud_img = np.array(img)\n",
    "                    flipud_img = np.flipud(flipud_img)\n",
    "                    images.append([((flipud_img-np.mean(flipud_img))/np.std(flipud_img)).astype(np.float16), label])\n",
    "                    \n",
    "                    #flip image vertically and horizontally\n",
    "                    flip_img = np.array(img)\n",
    "                    flip_img = np.flipud(fliplr_img)\n",
    "                    images.append([((flip_img-np.mean(flip_img))/np.std(flip_img)).astype(np.float16), label])\n",
    "                    \n",
    "                    nb_img_final+= 4\n",
    "            \n",
    "            print(label, \"has \", nb_img_final , \" sample images after data augmentation\")\n",
    "        new_distribution[label] = nb_img_final\n",
    "        \n",
    "\"\"\""
   ]
  },
  {
   "cell_type": "code",
   "execution_count": 17,
   "metadata": {},
   "outputs": [],
   "source": [
    "#free some memory\n",
    "del img_files"
   ]
  },
  {
   "cell_type": "markdown",
   "metadata": {},
   "source": [
    "# 3-4 : Feature Models"
   ]
  },
  {
   "cell_type": "markdown",
   "metadata": {},
   "source": [
    "<div class=\"\">\n",
    "    <h3>3. Model Selection</h3>\n",
    "</div>\n",
    "Perhaps the most important segment of this challenge involves the selection of a model that can successfully handle the given data and yield sensible predictions.\n",
    "Instead of focusing exclusively on your final chosen model, it is also important to share your thought process in this notebook by additionally describing alternative candidate models.\n",
    "\n",
    "The choice of your model is closely connected to the way you preprocessed the input data.\n",
    "\n",
    "Furthermore, there are other factors which may influence your decision:\n",
    "\n",
    "- What is the model's complexity?\n",
    "- Is the model interpretable?\n",
    "- Is the model capable of handling different data-types?\n",
    "- Does the model return uncertainty estimates along with predictions?"
   ]
  },
  {
   "cell_type": "markdown",
   "metadata": {},
   "source": [
    "- Decision Tree classifier: we try this model first because it is fast to train and easy to use as there is almost no parameter. furthermore we can use directly the feature and the categorical data. The tree used information gain to grow. Decision Tree are better to deals with non linear relationship between features. One of the advantage of decision tree is that it is interpretable.\n",
    "\n",
    "- Logistic Regression: this model is not easy to train as it is computionaly expensive but does not have many parameter. The second problem is logistic regression is known to fail in situations where the relationship between features and outcome is nonlinear but do well when the relationship is linear.\n",
    "\n",
    "- Gradient Boosting: This model is computionaly expensive. This Algorithm goes through cycles that repeatedly build new models using Gradient Boosted Decision Trees and combines them into an ensemble model. It is a boosting algorithm, it tries to create a strong learner from an ensemble of weak learners. It does not have many parameter : learning rate, number of iteration.\n",
    "\n"
   ]
  },
  {
   "cell_type": "markdown",
   "metadata": {},
   "source": [
    "<div class=\"\">\n",
    "    <h3>4. Parameter Optimisation</h3>\n",
    "</div>\n",
    "Irrespective of your choice, it is highly likely that your model will have one or more (hyper-)parameters that require tuning.\n",
    "There are several techniques for carrying out such a procedure, including cross-validation, Bayesian optimisation, and several others.\n",
    "As before, an analysis into which parameter tuning technique best suits your model is expected before proceeding with the optimisation of your model.\n",
    "\n",
    "If you use a neural network, the optimization of hyperparameters (learning rate, weight decay, etc.) can be a very time-consuming process. In this case, your may decide to carry out smaller experiments and to justify your choice on these preliminary tests."
   ]
  },
  {
   "cell_type": "code",
   "execution_count": 31,
   "metadata": {},
   "outputs": [],
   "source": [
    "X_train, X_val, y_train, y_val = train_test_split(X_resampled, y_resampled, test_size = 0.2, stratify = y_resampled) \n",
    "X_train_no_resampled, X_val_no_resampled, y_train_no_resampled, y_val_no_resampled = train_test_split(X, y, test_size = 0.2, stratify = y)\n",
    "X_train_skimage, X_val_skimage, y_train_skimage, y_val_skimage = train_test_split(X_resampled_skimage, y_resampled_skimage, test_size = 0.2, stratify = y_resampled_skimage)\n",
    "# stratify = y_resampled to keep the classe proportion in the slitted data"
   ]
  },
  {
   "cell_type": "markdown",
   "metadata": {},
   "source": [
    "Logistic Regression: choice of the solver\n",
    "    ‘newton-cg’, ‘lbfgs’ and ‘sag’ only handle L2 penalty, whereas  ‘saga’ handle L1 penalty."
   ]
  },
  {
   "cell_type": "markdown",
   "metadata": {},
   "source": [
    "### Decision Tree\n",
    "we try this model first because it is fast to train and easy to use as there is almost no parameter."
   ]
  },
  {
   "cell_type": "code",
   "execution_count": 52,
   "metadata": {},
   "outputs": [],
   "source": [
    "def train_DecisionTree(X_train, y_train):\n",
    "    model_tree = DecisionTreeClassifier(criterion='gini')\n",
    "    t = time.time()\n",
    "    model_tree.fit(X_train, y_train)\n",
    "    t = time.time() -t\n",
    "    return model_tree, t "
   ]
  },
  {
   "cell_type": "code",
   "execution_count": 31,
   "metadata": {},
   "outputs": [
    {
     "name": "stdout",
     "output_type": "stream",
     "text": [
      "training duration: 18 s\n"
     ]
    }
   ],
   "source": [
    "model_tree_1, t1 = train_DecisionTree(X_train, y_train)\n",
    "print(\"training duration: %s s\" %round(t1))"
   ]
  },
  {
   "cell_type": "code",
   "execution_count": 93,
   "metadata": {},
   "outputs": [
    {
     "name": "stdout",
     "output_type": "stream",
     "text": [
      "F1 score using a decision tree with the re-sampled data of native feature: 0.7477716319232263\n"
     ]
    }
   ],
   "source": [
    "y_pred_rsp = model_tree_1.predict(X_val)\n",
    "score_tree_resampled_native = f1_score(y_pred_rsp, y_val, average='macro')\n",
    "print(\"F1 score using a decision tree with the re-sampled data of native feature: %s\" % score_tree_resampled_native )\n",
    "\n"
   ]
  },
  {
   "cell_type": "markdown",
   "metadata": {},
   "source": [
    "<h4> The F1 score seems quiet good for a first try with a relatively simple model, but we may interpret this with some precaution because we modify the dataset with the SMOTE algorithm. we can try to applied the model with validation data from original data to see what happen.</h4>\n",
    "    \n",
    "<h4>Here it is not very rigorous to use validation data from the original dataset because we train the model with the data from the SMOTE algorithm and we split the data from SMOTE in test and validation data. It may exist examples in \"X_val_no_resampled\" that have been used for the training model but not the majority because we remove a lot of data from the original dataset and add new one (synthetic) in X_val.</h4>\n",
    "<h4>Anyway, have a look on the behaviour of the model train with synthetic data when it use the original data give an intuition of what happen, if it was relevant to balanced and add synthetic examples to train our models."
   ]
  },
  {
   "cell_type": "code",
   "execution_count": 95,
   "metadata": {},
   "outputs": [
    {
     "name": "stdout",
     "output_type": "stream",
     "text": [
      "F1 score using a decision tree with the origina data of native feature: 0.4019586787306226\n"
     ]
    }
   ],
   "source": [
    "y_pred_nrsp = model_tree_1.predict(X_val_no_resampled)\n",
    "score_tree_no_resampled = f1_score(y_pred, y_val_no_resampled, average='macro')\n",
    "print(\"F1 score using a decision tree with the origina data of native feature: %s\" % f1_score(y_pred, y_val_no_resampled, average='macro'))"
   ]
  },
  {
   "cell_type": "markdown",
   "metadata": {},
   "source": [
    "<h4> There is a huge difference, the F1-score decrease a lot if we use the original data. to know why we futher examine the result a the F1-score function to see how each classes have been predicted."
   ]
  },
  {
   "cell_type": "code",
   "execution_count": null,
   "metadata": {},
   "outputs": [],
   "source": [
    "tree_table_f1 = pd.DataFrame(\n",
    "    {'label': list_label,\n",
    "     'score with original data': f1_score(y_pred_nrsp, y_val_no_resampled,  labels = list_label, average = None),\n",
    "    'score with resampled and synthetic data': f1_score(y_pred_rsp, y_val, labels = list_label, average = None)})\n"
   ]
  },
  {
   "cell_type": "code",
   "execution_count": 116,
   "metadata": {},
   "outputs": [
    {
     "name": "stdout",
     "output_type": "stream",
     "text": [
      "detail of the score on no-resample data\n"
     ]
    },
    {
     "data": {
      "text/html": [
       "<div>\n",
       "<style scoped>\n",
       "    .dataframe tbody tr th:only-of-type {\n",
       "        vertical-align: middle;\n",
       "    }\n",
       "\n",
       "    .dataframe tbody tr th {\n",
       "        vertical-align: top;\n",
       "    }\n",
       "\n",
       "    .dataframe thead th {\n",
       "        text-align: right;\n",
       "    }\n",
       "</style>\n",
       "<table border=\"1\" class=\"dataframe\">\n",
       "  <thead>\n",
       "    <tr style=\"text-align: right;\">\n",
       "      <th></th>\n",
       "      <th>label</th>\n",
       "      <th>score with original data</th>\n",
       "      <th>score with resampled and synthetic data</th>\n",
       "    </tr>\n",
       "  </thead>\n",
       "  <tbody>\n",
       "    <tr>\n",
       "      <th>0</th>\n",
       "      <td>detritus</td>\n",
       "      <td>0.523748</td>\n",
       "      <td>0.360134</td>\n",
       "    </tr>\n",
       "    <tr>\n",
       "      <th>1</th>\n",
       "      <td>Rhizosolenids</td>\n",
       "      <td>0.442211</td>\n",
       "      <td>0.663283</td>\n",
       "    </tr>\n",
       "    <tr>\n",
       "      <th>2</th>\n",
       "      <td>silks</td>\n",
       "      <td>0.856895</td>\n",
       "      <td>0.830610</td>\n",
       "    </tr>\n",
       "    <tr>\n",
       "      <th>3</th>\n",
       "      <td>feces</td>\n",
       "      <td>0.596349</td>\n",
       "      <td>0.483210</td>\n",
       "    </tr>\n",
       "    <tr>\n",
       "      <th>4</th>\n",
       "      <td>Codonaria</td>\n",
       "      <td>0.451039</td>\n",
       "      <td>0.741351</td>\n",
       "    </tr>\n",
       "    <tr>\n",
       "      <th>5</th>\n",
       "      <td>Asterionellopsis</td>\n",
       "      <td>0.235294</td>\n",
       "      <td>0.919485</td>\n",
       "    </tr>\n",
       "    <tr>\n",
       "      <th>6</th>\n",
       "      <td>Codonellopsis (Dictyocystidae)</td>\n",
       "      <td>0.694497</td>\n",
       "      <td>0.767382</td>\n",
       "    </tr>\n",
       "    <tr>\n",
       "      <th>7</th>\n",
       "      <td>Dictyocysta</td>\n",
       "      <td>0.400000</td>\n",
       "      <td>0.906122</td>\n",
       "    </tr>\n",
       "    <tr>\n",
       "      <th>8</th>\n",
       "      <td>Neoceratium</td>\n",
       "      <td>0.715334</td>\n",
       "      <td>0.643285</td>\n",
       "    </tr>\n",
       "    <tr>\n",
       "      <th>9</th>\n",
       "      <td>Copepoda</td>\n",
       "      <td>0.693894</td>\n",
       "      <td>0.683209</td>\n",
       "    </tr>\n",
       "    <tr>\n",
       "      <th>10</th>\n",
       "      <td>Coscinodiscids</td>\n",
       "      <td>0.406154</td>\n",
       "      <td>0.883914</td>\n",
       "    </tr>\n",
       "    <tr>\n",
       "      <th>11</th>\n",
       "      <td>nauplii (Crustacea)</td>\n",
       "      <td>0.633899</td>\n",
       "      <td>0.566357</td>\n",
       "    </tr>\n",
       "    <tr>\n",
       "      <th>12</th>\n",
       "      <td>Protoperidinium</td>\n",
       "      <td>0.341845</td>\n",
       "      <td>0.646809</td>\n",
       "    </tr>\n",
       "    <tr>\n",
       "      <th>13</th>\n",
       "      <td>Annelida</td>\n",
       "      <td>0.244233</td>\n",
       "      <td>0.719867</td>\n",
       "    </tr>\n",
       "    <tr>\n",
       "      <th>14</th>\n",
       "      <td>Ceratocorys horrida</td>\n",
       "      <td>0.100559</td>\n",
       "      <td>0.865894</td>\n",
       "    </tr>\n",
       "    <tr>\n",
       "      <th>15</th>\n",
       "      <td>Dinophysiales</td>\n",
       "      <td>0.140483</td>\n",
       "      <td>0.677524</td>\n",
       "    </tr>\n",
       "    <tr>\n",
       "      <th>16</th>\n",
       "      <td>Chaetoceros</td>\n",
       "      <td>0.482199</td>\n",
       "      <td>0.655623</td>\n",
       "    </tr>\n",
       "    <tr>\n",
       "      <th>17</th>\n",
       "      <td>Thalassionema</td>\n",
       "      <td>0.709574</td>\n",
       "      <td>0.753097</td>\n",
       "    </tr>\n",
       "    <tr>\n",
       "      <th>18</th>\n",
       "      <td>Undellidae</td>\n",
       "      <td>0.519924</td>\n",
       "      <td>0.904020</td>\n",
       "    </tr>\n",
       "    <tr>\n",
       "      <th>19</th>\n",
       "      <td>rods</td>\n",
       "      <td>0.766940</td>\n",
       "      <td>0.818871</td>\n",
       "    </tr>\n",
       "    <tr>\n",
       "      <th>20</th>\n",
       "      <td>Hemiaulus</td>\n",
       "      <td>0.314861</td>\n",
       "      <td>0.771382</td>\n",
       "    </tr>\n",
       "    <tr>\n",
       "      <th>21</th>\n",
       "      <td>Tintinnidiidae</td>\n",
       "      <td>0.459459</td>\n",
       "      <td>0.575916</td>\n",
       "    </tr>\n",
       "    <tr>\n",
       "      <th>22</th>\n",
       "      <td>pollen</td>\n",
       "      <td>0.371445</td>\n",
       "      <td>0.709622</td>\n",
       "    </tr>\n",
       "    <tr>\n",
       "      <th>23</th>\n",
       "      <td>Retaria</td>\n",
       "      <td>0.110112</td>\n",
       "      <td>0.797331</td>\n",
       "    </tr>\n",
       "    <tr>\n",
       "      <th>24</th>\n",
       "      <td>multiple (other)</td>\n",
       "      <td>0.367416</td>\n",
       "      <td>0.418644</td>\n",
       "    </tr>\n",
       "    <tr>\n",
       "      <th>25</th>\n",
       "      <td>Rhabdonella</td>\n",
       "      <td>0.451411</td>\n",
       "      <td>0.880134</td>\n",
       "    </tr>\n",
       "    <tr>\n",
       "      <th>26</th>\n",
       "      <td>chainlarge</td>\n",
       "      <td>0.244288</td>\n",
       "      <td>0.759350</td>\n",
       "    </tr>\n",
       "    <tr>\n",
       "      <th>27</th>\n",
       "      <td>artefact</td>\n",
       "      <td>0.527697</td>\n",
       "      <td>0.915197</td>\n",
       "    </tr>\n",
       "    <tr>\n",
       "      <th>28</th>\n",
       "      <td>Pleurosigma</td>\n",
       "      <td>0.217009</td>\n",
       "      <td>0.903909</td>\n",
       "    </tr>\n",
       "    <tr>\n",
       "      <th>29</th>\n",
       "      <td>Odontella (Mediophyceae)</td>\n",
       "      <td>0.055804</td>\n",
       "      <td>0.927750</td>\n",
       "    </tr>\n",
       "    <tr>\n",
       "      <th>30</th>\n",
       "      <td>centric</td>\n",
       "      <td>0.113060</td>\n",
       "      <td>0.864117</td>\n",
       "    </tr>\n",
       "    <tr>\n",
       "      <th>31</th>\n",
       "      <td>Cyttarocylis</td>\n",
       "      <td>0.481013</td>\n",
       "      <td>0.971146</td>\n",
       "    </tr>\n",
       "    <tr>\n",
       "      <th>32</th>\n",
       "      <td>badfocus (artefact)</td>\n",
       "      <td>0.888689</td>\n",
       "      <td>0.914238</td>\n",
       "    </tr>\n",
       "    <tr>\n",
       "      <th>33</th>\n",
       "      <td>egg (other)</td>\n",
       "      <td>0.284141</td>\n",
       "      <td>0.765599</td>\n",
       "    </tr>\n",
       "    <tr>\n",
       "      <th>34</th>\n",
       "      <td>Stenosemella</td>\n",
       "      <td>0.253359</td>\n",
       "      <td>0.815661</td>\n",
       "    </tr>\n",
       "    <tr>\n",
       "      <th>35</th>\n",
       "      <td>Xystonellidae</td>\n",
       "      <td>0.046823</td>\n",
       "      <td>0.679487</td>\n",
       "    </tr>\n",
       "    <tr>\n",
       "      <th>36</th>\n",
       "      <td>Lithodesmioides</td>\n",
       "      <td>0.192593</td>\n",
       "      <td>0.715328</td>\n",
       "    </tr>\n",
       "    <tr>\n",
       "      <th>37</th>\n",
       "      <td>tempChaetoceros danicus</td>\n",
       "      <td>0.224490</td>\n",
       "      <td>0.700000</td>\n",
       "    </tr>\n",
       "    <tr>\n",
       "      <th>38</th>\n",
       "      <td>Bacteriastrum</td>\n",
       "      <td>0.117647</td>\n",
       "      <td>0.588235</td>\n",
       "    </tr>\n",
       "  </tbody>\n",
       "</table>\n",
       "</div>"
      ],
      "text/plain": [
       "                             label  score with original data  \\\n",
       "0                         detritus                  0.523748   \n",
       "1                    Rhizosolenids                  0.442211   \n",
       "2                            silks                  0.856895   \n",
       "3                            feces                  0.596349   \n",
       "4                        Codonaria                  0.451039   \n",
       "5                 Asterionellopsis                  0.235294   \n",
       "6   Codonellopsis (Dictyocystidae)                  0.694497   \n",
       "7                      Dictyocysta                  0.400000   \n",
       "8                      Neoceratium                  0.715334   \n",
       "9                         Copepoda                  0.693894   \n",
       "10                  Coscinodiscids                  0.406154   \n",
       "11             nauplii (Crustacea)                  0.633899   \n",
       "12                 Protoperidinium                  0.341845   \n",
       "13                        Annelida                  0.244233   \n",
       "14             Ceratocorys horrida                  0.100559   \n",
       "15                   Dinophysiales                  0.140483   \n",
       "16                     Chaetoceros                  0.482199   \n",
       "17                   Thalassionema                  0.709574   \n",
       "18                      Undellidae                  0.519924   \n",
       "19                            rods                  0.766940   \n",
       "20                       Hemiaulus                  0.314861   \n",
       "21                  Tintinnidiidae                  0.459459   \n",
       "22                          pollen                  0.371445   \n",
       "23                         Retaria                  0.110112   \n",
       "24                multiple (other)                  0.367416   \n",
       "25                     Rhabdonella                  0.451411   \n",
       "26                      chainlarge                  0.244288   \n",
       "27                        artefact                  0.527697   \n",
       "28                     Pleurosigma                  0.217009   \n",
       "29        Odontella (Mediophyceae)                  0.055804   \n",
       "30                         centric                  0.113060   \n",
       "31                    Cyttarocylis                  0.481013   \n",
       "32             badfocus (artefact)                  0.888689   \n",
       "33                     egg (other)                  0.284141   \n",
       "34                    Stenosemella                  0.253359   \n",
       "35                   Xystonellidae                  0.046823   \n",
       "36                 Lithodesmioides                  0.192593   \n",
       "37         tempChaetoceros danicus                  0.224490   \n",
       "38                   Bacteriastrum                  0.117647   \n",
       "\n",
       "    score with resampled and synthetic data  \n",
       "0                                  0.360134  \n",
       "1                                  0.663283  \n",
       "2                                  0.830610  \n",
       "3                                  0.483210  \n",
       "4                                  0.741351  \n",
       "5                                  0.919485  \n",
       "6                                  0.767382  \n",
       "7                                  0.906122  \n",
       "8                                  0.643285  \n",
       "9                                  0.683209  \n",
       "10                                 0.883914  \n",
       "11                                 0.566357  \n",
       "12                                 0.646809  \n",
       "13                                 0.719867  \n",
       "14                                 0.865894  \n",
       "15                                 0.677524  \n",
       "16                                 0.655623  \n",
       "17                                 0.753097  \n",
       "18                                 0.904020  \n",
       "19                                 0.818871  \n",
       "20                                 0.771382  \n",
       "21                                 0.575916  \n",
       "22                                 0.709622  \n",
       "23                                 0.797331  \n",
       "24                                 0.418644  \n",
       "25                                 0.880134  \n",
       "26                                 0.759350  \n",
       "27                                 0.915197  \n",
       "28                                 0.903909  \n",
       "29                                 0.927750  \n",
       "30                                 0.864117  \n",
       "31                                 0.971146  \n",
       "32                                 0.914238  \n",
       "33                                 0.765599  \n",
       "34                                 0.815661  \n",
       "35                                 0.679487  \n",
       "36                                 0.715328  \n",
       "37                                 0.700000  \n",
       "38                                 0.588235  "
      ]
     },
     "execution_count": 116,
     "metadata": {},
     "output_type": "execute_result"
    }
   ],
   "source": [
    "print(\"detail of the score on no-resample data\" )\n",
    "tree_table_f1"
   ]
  },
  {
   "cell_type": "markdown",
   "metadata": {},
   "source": [
    "In that table, labels are order from the most frequent to the least frequent. For some very frequent label, like detritus, the model is not very perfomant, we may have remove too much detritus from the set during the pre-prossecing, so the model does not get all the complexity of the class.\n",
    "Beside, for rare classes, there are a huge difference between the validation score done with or without synthetic data. For classes like tempChaetoceros danicus or Bacteriastrum the validation scores are much higher with resampled and synthetic data than original data. How can we explain that ? maybe there are too few data to enable the SMOTE algorithm to generate reliable synthetic data for these classes.\n"
   ]
  },
  {
   "cell_type": "markdown",
   "metadata": {},
   "source": [
    "At this stage we are wondering if training the model with synthetic data in our balanced data set is a improvement. so we are going to train a Decision tree with the original data set."
   ]
  },
  {
   "cell_type": "code",
   "execution_count": 119,
   "metadata": {},
   "outputs": [
    {
     "name": "stdout",
     "output_type": "stream",
     "text": [
      "training duration: 36.5332396030426\n"
     ]
    }
   ],
   "source": [
    "model_tree_2, t2 = train_DecisionTree(X_train_no_resampled, y_train_no_resampled)\n",
    "print(\"training duration: %s\" %t2)"
   ]
  },
  {
   "cell_type": "code",
   "execution_count": 121,
   "metadata": {},
   "outputs": [
    {
     "name": "stdout",
     "output_type": "stream",
     "text": [
      "F1 score using a decision tree with the original data: 0.34173081343700457\n"
     ]
    },
    {
     "name": "stderr",
     "output_type": "stream",
     "text": [
      "/mnt/workspace/.local/lib/python3.5/site-packages/sklearn/metrics/classification.py:1145: UndefinedMetricWarning: F-score is ill-defined and being set to 0.0 in labels with no true samples.\n",
      "  'recall', 'true', average, warn_for)\n"
     ]
    }
   ],
   "source": [
    "print(\"F1 score using a decision tree with the original data: %s\" % f1_score(model_tree_2.predict(X_val_no_resampled), y_val_no_resampled, average='macro'))"
   ]
  },
  {
   "cell_type": "markdown",
   "metadata": {},
   "source": [
    "we see that the F1 score with the model train with the original data is less than the previous one (0.36 against 0.4) but there is not a big difference. Using synthetic data is not a huge improvement even if it helps for rare classes as we see in the table below. The two rarest classes have a 0 score.\n",
    "Moreover using the original data for the training here enable to model well detritus as there are a lot of exemple."
   ]
  },
  {
   "cell_type": "code",
   "execution_count": 124,
   "metadata": {},
   "outputs": [
    {
     "name": "stderr",
     "output_type": "stream",
     "text": [
      "/mnt/workspace/.local/lib/python3.5/site-packages/sklearn/metrics/classification.py:1145: UndefinedMetricWarning: F-score is ill-defined and being set to 0.0 in labels with no true samples.\n",
      "  'recall', 'true', average, warn_for)\n"
     ]
    },
    {
     "data": {
      "text/html": [
       "<div>\n",
       "<style scoped>\n",
       "    .dataframe tbody tr th:only-of-type {\n",
       "        vertical-align: middle;\n",
       "    }\n",
       "\n",
       "    .dataframe tbody tr th {\n",
       "        vertical-align: top;\n",
       "    }\n",
       "\n",
       "    .dataframe thead th {\n",
       "        text-align: right;\n",
       "    }\n",
       "</style>\n",
       "<table border=\"1\" class=\"dataframe\">\n",
       "  <thead>\n",
       "    <tr style=\"text-align: right;\">\n",
       "      <th></th>\n",
       "      <th>label</th>\n",
       "      <th>score with original data</th>\n",
       "    </tr>\n",
       "  </thead>\n",
       "  <tbody>\n",
       "    <tr>\n",
       "      <th>0</th>\n",
       "      <td>detritus</td>\n",
       "      <td>0.831295</td>\n",
       "    </tr>\n",
       "    <tr>\n",
       "      <th>1</th>\n",
       "      <td>Rhizosolenids</td>\n",
       "      <td>0.367870</td>\n",
       "    </tr>\n",
       "    <tr>\n",
       "      <th>2</th>\n",
       "      <td>silks</td>\n",
       "      <td>0.808182</td>\n",
       "    </tr>\n",
       "    <tr>\n",
       "      <th>3</th>\n",
       "      <td>feces</td>\n",
       "      <td>0.673532</td>\n",
       "    </tr>\n",
       "    <tr>\n",
       "      <th>4</th>\n",
       "      <td>Codonaria</td>\n",
       "      <td>0.338983</td>\n",
       "    </tr>\n",
       "    <tr>\n",
       "      <th>5</th>\n",
       "      <td>Asterionellopsis</td>\n",
       "      <td>0.040000</td>\n",
       "    </tr>\n",
       "    <tr>\n",
       "      <th>6</th>\n",
       "      <td>Codonellopsis (Dictyocystidae)</td>\n",
       "      <td>0.698523</td>\n",
       "    </tr>\n",
       "    <tr>\n",
       "      <th>7</th>\n",
       "      <td>Dictyocysta</td>\n",
       "      <td>0.433180</td>\n",
       "    </tr>\n",
       "    <tr>\n",
       "      <th>8</th>\n",
       "      <td>Neoceratium</td>\n",
       "      <td>0.711532</td>\n",
       "    </tr>\n",
       "    <tr>\n",
       "      <th>9</th>\n",
       "      <td>Copepoda</td>\n",
       "      <td>0.606414</td>\n",
       "    </tr>\n",
       "    <tr>\n",
       "      <th>10</th>\n",
       "      <td>Coscinodiscids</td>\n",
       "      <td>0.325581</td>\n",
       "    </tr>\n",
       "    <tr>\n",
       "      <th>11</th>\n",
       "      <td>nauplii (Crustacea)</td>\n",
       "      <td>0.600428</td>\n",
       "    </tr>\n",
       "    <tr>\n",
       "      <th>12</th>\n",
       "      <td>Protoperidinium</td>\n",
       "      <td>0.265393</td>\n",
       "    </tr>\n",
       "    <tr>\n",
       "      <th>13</th>\n",
       "      <td>Annelida</td>\n",
       "      <td>0.100503</td>\n",
       "    </tr>\n",
       "    <tr>\n",
       "      <th>14</th>\n",
       "      <td>Ceratocorys horrida</td>\n",
       "      <td>0.027778</td>\n",
       "    </tr>\n",
       "    <tr>\n",
       "      <th>15</th>\n",
       "      <td>Dinophysiales</td>\n",
       "      <td>0.050847</td>\n",
       "    </tr>\n",
       "    <tr>\n",
       "      <th>16</th>\n",
       "      <td>Chaetoceros</td>\n",
       "      <td>0.413069</td>\n",
       "    </tr>\n",
       "    <tr>\n",
       "      <th>17</th>\n",
       "      <td>Thalassionema</td>\n",
       "      <td>0.700631</td>\n",
       "    </tr>\n",
       "    <tr>\n",
       "      <th>18</th>\n",
       "      <td>Undellidae</td>\n",
       "      <td>0.520147</td>\n",
       "    </tr>\n",
       "    <tr>\n",
       "      <th>19</th>\n",
       "      <td>rods</td>\n",
       "      <td>0.707788</td>\n",
       "    </tr>\n",
       "    <tr>\n",
       "      <th>20</th>\n",
       "      <td>Hemiaulus</td>\n",
       "      <td>0.181818</td>\n",
       "    </tr>\n",
       "    <tr>\n",
       "      <th>21</th>\n",
       "      <td>Tintinnidiidae</td>\n",
       "      <td>0.429989</td>\n",
       "    </tr>\n",
       "    <tr>\n",
       "      <th>22</th>\n",
       "      <td>pollen</td>\n",
       "      <td>0.283333</td>\n",
       "    </tr>\n",
       "    <tr>\n",
       "      <th>23</th>\n",
       "      <td>Retaria</td>\n",
       "      <td>0.019417</td>\n",
       "    </tr>\n",
       "    <tr>\n",
       "      <th>24</th>\n",
       "      <td>multiple (other)</td>\n",
       "      <td>0.183540</td>\n",
       "    </tr>\n",
       "    <tr>\n",
       "      <th>25</th>\n",
       "      <td>Rhabdonella</td>\n",
       "      <td>0.440252</td>\n",
       "    </tr>\n",
       "    <tr>\n",
       "      <th>26</th>\n",
       "      <td>chainlarge</td>\n",
       "      <td>0.149533</td>\n",
       "    </tr>\n",
       "    <tr>\n",
       "      <th>27</th>\n",
       "      <td>artefact</td>\n",
       "      <td>0.553371</td>\n",
       "    </tr>\n",
       "    <tr>\n",
       "      <th>28</th>\n",
       "      <td>Pleurosigma</td>\n",
       "      <td>0.213333</td>\n",
       "    </tr>\n",
       "    <tr>\n",
       "      <th>29</th>\n",
       "      <td>Odontella (Mediophyceae)</td>\n",
       "      <td>0.000000</td>\n",
       "    </tr>\n",
       "    <tr>\n",
       "      <th>30</th>\n",
       "      <td>centric</td>\n",
       "      <td>0.032258</td>\n",
       "    </tr>\n",
       "    <tr>\n",
       "      <th>31</th>\n",
       "      <td>Cyttarocylis</td>\n",
       "      <td>0.250000</td>\n",
       "    </tr>\n",
       "    <tr>\n",
       "      <th>32</th>\n",
       "      <td>badfocus (artefact)</td>\n",
       "      <td>0.930247</td>\n",
       "    </tr>\n",
       "    <tr>\n",
       "      <th>33</th>\n",
       "      <td>egg (other)</td>\n",
       "      <td>0.266667</td>\n",
       "    </tr>\n",
       "    <tr>\n",
       "      <th>34</th>\n",
       "      <td>Stenosemella</td>\n",
       "      <td>0.054422</td>\n",
       "    </tr>\n",
       "    <tr>\n",
       "      <th>35</th>\n",
       "      <td>Xystonellidae</td>\n",
       "      <td>0.000000</td>\n",
       "    </tr>\n",
       "    <tr>\n",
       "      <th>36</th>\n",
       "      <td>Lithodesmioides</td>\n",
       "      <td>0.117647</td>\n",
       "    </tr>\n",
       "    <tr>\n",
       "      <th>37</th>\n",
       "      <td>tempChaetoceros danicus</td>\n",
       "      <td>0.000000</td>\n",
       "    </tr>\n",
       "    <tr>\n",
       "      <th>38</th>\n",
       "      <td>Bacteriastrum</td>\n",
       "      <td>0.000000</td>\n",
       "    </tr>\n",
       "  </tbody>\n",
       "</table>\n",
       "</div>"
      ],
      "text/plain": [
       "                             label  score with original data\n",
       "0                         detritus                  0.831295\n",
       "1                    Rhizosolenids                  0.367870\n",
       "2                            silks                  0.808182\n",
       "3                            feces                  0.673532\n",
       "4                        Codonaria                  0.338983\n",
       "5                 Asterionellopsis                  0.040000\n",
       "6   Codonellopsis (Dictyocystidae)                  0.698523\n",
       "7                      Dictyocysta                  0.433180\n",
       "8                      Neoceratium                  0.711532\n",
       "9                         Copepoda                  0.606414\n",
       "10                  Coscinodiscids                  0.325581\n",
       "11             nauplii (Crustacea)                  0.600428\n",
       "12                 Protoperidinium                  0.265393\n",
       "13                        Annelida                  0.100503\n",
       "14             Ceratocorys horrida                  0.027778\n",
       "15                   Dinophysiales                  0.050847\n",
       "16                     Chaetoceros                  0.413069\n",
       "17                   Thalassionema                  0.700631\n",
       "18                      Undellidae                  0.520147\n",
       "19                            rods                  0.707788\n",
       "20                       Hemiaulus                  0.181818\n",
       "21                  Tintinnidiidae                  0.429989\n",
       "22                          pollen                  0.283333\n",
       "23                         Retaria                  0.019417\n",
       "24                multiple (other)                  0.183540\n",
       "25                     Rhabdonella                  0.440252\n",
       "26                      chainlarge                  0.149533\n",
       "27                        artefact                  0.553371\n",
       "28                     Pleurosigma                  0.213333\n",
       "29        Odontella (Mediophyceae)                  0.000000\n",
       "30                         centric                  0.032258\n",
       "31                    Cyttarocylis                  0.250000\n",
       "32             badfocus (artefact)                  0.930247\n",
       "33                     egg (other)                  0.266667\n",
       "34                    Stenosemella                  0.054422\n",
       "35                   Xystonellidae                  0.000000\n",
       "36                 Lithodesmioides                  0.117647\n",
       "37         tempChaetoceros danicus                  0.000000\n",
       "38                   Bacteriastrum                  0.000000"
      ]
     },
     "execution_count": 124,
     "metadata": {},
     "output_type": "execute_result"
    }
   ],
   "source": [
    "pd.DataFrame(\n",
    "    {'label': list_label,\n",
    "     'score with original data with a model train with original data': f1_score(model_tree_2.predict(X_val_no_resampled), y_val_no_resampled,  labels = list_label, average = None)})"
   ]
  },
  {
   "cell_type": "markdown",
   "metadata": {},
   "source": [
    "Last question on Desision Tree, Is using skimage feature would help to improve?"
   ]
  },
  {
   "cell_type": "code",
   "execution_count": 127,
   "metadata": {},
   "outputs": [
    {
     "name": "stdout",
     "output_type": "stream",
     "text": [
      "training duration: 16.500319004058838\n",
      "F1 score using a decision tree with skimage data: 0.7526438566746113\n",
      "F1 score using a decision tree with original data: 0.3999295223679198\n"
     ]
    }
   ],
   "source": [
    "model_tree_3, t3 = train_DecisionTree(X_train_skimage, y_train_skimage)\n",
    "print(\"training duration: %s\" %t3)\n",
    "print(\"F1 score using a decision tree with skimage data: %s\" % f1_score(model_tree_3.predict(X_val_skimage), y_val_skimage, average='macro'))\n",
    "print(\"F1 score using a decision tree with original data: %s\" % f1_score(model_tree_3.predict(X_val_no_resampled), y_val_no_resampled, average='macro'))"
   ]
  },
  {
   "cell_type": "markdown",
   "metadata": {},
   "source": [
    "<h4> Score with skimage feature and native feature are similar. Here skimage data are also resampled and synthetics data"
   ]
  },
  {
   "cell_type": "markdown",
   "metadata": {},
   "source": [
    "## Logistic Regression\n",
    "\n",
    "In the logistic regression we are going to use the same method than for Decision Tree, train model with the balance and increase data set and see how it perform on other orignal data set. We also try to train model with original data to see how it performs."
   ]
  },
  {
   "cell_type": "code",
   "execution_count": 39,
   "metadata": {},
   "outputs": [],
   "source": [
    "def LogisticRegression_training(X_train, X_val, y_train, y_val, solver, nb_iter):\n",
    "    clf = LogisticRegression(random_state=0, multi_class='multinomial', solver=solver, class_weight='balanced', max_iter = nb_iter ) #The “balanced” mode uses the values of y to automatically adjust weights inversely proportional to class frequencies in the input data as n_samples / (n_classes * np.bincount(y)).\n",
    "    t = time.time()\n",
    "    model = clf.fit(X_train, y_train)\n",
    "    t = time.time()-t\n",
    "    y_pred = model.predict(X_val)\n",
    "    score = f1_score(y_pred, y_val, average='macro')\n",
    "    return model, score ,t"
   ]
  },
  {
   "cell_type": "code",
   "execution_count": null,
   "metadata": {},
   "outputs": [],
   "source": [
    "model_lg_1, score1 ,t1 = LogisticRegression_training(X_train, X_val, y_train, y_val, 'newton-cg', 100)\n"
   ]
  },
  {
   "cell_type": "code",
   "execution_count": 36,
   "metadata": {},
   "outputs": [
    {
     "name": "stdout",
     "output_type": "stream",
     "text": [
      "F1 score using a logistic regression with the resampled data for the validtion: 0.402648273672195\n"
     ]
    }
   ],
   "source": [
    "print(\"F1 score using a logistic regression with the resampled data for the validtion: %s\" % score1)"
   ]
  },
  {
   "cell_type": "code",
   "execution_count": 135,
   "metadata": {},
   "outputs": [
    {
     "name": "stdout",
     "output_type": "stream",
     "text": [
      "F1 score using a logistic regression with the origina data for the validtion: 0.205579536642283\n"
     ]
    }
   ],
   "source": [
    "print(\"F1 score using a logistic regression with the origina data for the validtion: %s\" % f1_score(model_lg_1.predict(X_val_no_resampled), y_val_no_resampled, average='macro'))"
   ]
  },
  {
   "cell_type": "code",
   "execution_count": null,
   "metadata": {},
   "outputs": [],
   "source": [
    "model_lg_2, score2 ,t2 = LogisticRegression_training(X_train_skimage, X_val_skimage, y_train_skimage, y_val_skimage, 'newton-cg', 100) "
   ]
  },
  {
   "cell_type": "code",
   "execution_count": 140,
   "metadata": {},
   "outputs": [
    {
     "name": "stdout",
     "output_type": "stream",
     "text": [
      "training duration 470.6983230113983\n",
      "F1 score using a logistic regression training with skimage: 0.449549614679182\n"
     ]
    }
   ],
   "source": [
    "print(\"training duration %s\" % t2)\n",
    "print(\"F1 score using a logistic regression training with skimage: %s\" % score2)"
   ]
  },
  {
   "cell_type": "code",
   "execution_count": null,
   "metadata": {},
   "outputs": [],
   "source": [
    "model3, score3 ,t3 =  LogisticRegression_training(X_train_no_resampled, X_val_no_resampled, y_train_no_resampled, y_val_no_resampled, 'newton-cg', 100)"
   ]
  },
  {
   "cell_type": "code",
   "execution_count": 143,
   "metadata": {},
   "outputs": [
    {
     "name": "stdout",
     "output_type": "stream",
     "text": [
      "training duration: 1337 seconds\n",
      "F1 score using a logistic regression training with orignal data: 0.2020320861566354\n"
     ]
    }
   ],
   "source": [
    "print(\"training duration: %s seconds\" % int(t3))\n",
    "print(\"F1 score using a logistic regression training with orignal data: %s\" % score3)"
   ]
  },
  {
   "cell_type": "markdown",
   "metadata": {},
   "source": [
    "<h4>So far it we can noticed that logistic regression is less performant than decision tree, for both model train with original or resampled data. Futhermore if we used original dataset for validation in the model train with resample and synthetic data, it give almost the same score that with the model train with original data, it may means that using our synthetic and resampled dataset does not improve the model here. Used different set ( synthetic data vs original data) for validation and training is not rigorous but in our case it can give an intution of happen as explain above.\n",
    "We see also that logistic regression is far more computionaly expensive.</h4>\n",
    "\n",
    "<table>\n",
    "   <tr>\n",
    "       <th>training data used </th>\n",
    "       <th> validation data used</th>\n",
    "       <th>f1 score</th>\n",
    "   </tr>\n",
    "\n",
    "   <tr>\n",
    "       <td>resample data</td>\n",
    "       <td>resample data</td>\n",
    "       <td>0.4529</td>\n",
    "   </tr>\n",
    "   <tr>\n",
    "       <td>original data</td>\n",
    "       <td>original data</td>\n",
    "       <td>0.2020</td>\n",
    "   </tr>\n",
    "    <tr>\n",
    "       <td>resample data</td>\n",
    "       <td>original data</td>\n",
    "       <td>0.2055</td>\n",
    "   </tr>\n",
    "</table>"
   ]
  },
  {
   "cell_type": "markdown",
   "metadata": {},
   "source": [
    "<h4>So far we just use \"newton-cg\" solver, we can also try LogisticRegression with different solver to improve the  logistic regression"
   ]
  },
  {
   "cell_type": "code",
   "execution_count": 7,
   "metadata": {},
   "outputs": [],
   "source": [
    "score6 = 0.16571075787303247\n",
    "t6 =  240.65762162208557\n",
    "model_lgt_5 = load('model5.joblib') "
   ]
  },
  {
   "cell_type": "code",
   "execution_count": null,
   "metadata": {},
   "outputs": [],
   "source": [
    "model_lg_5, score5 ,t5 = LogisticRegression_training(X_train, X_val, y_train, y_val, 'saga', 100)\n"
   ]
  },
  {
   "cell_type": "code",
   "execution_count": 6,
   "metadata": {},
   "outputs": [
    {
     "name": "stdout",
     "output_type": "stream",
     "text": [
      "training duration: 126 seconds\n",
      "F1 score using a logistic regression with saga solver : 0.0014014042070154295\n"
     ]
    }
   ],
   "source": [
    "print(\"training duration: %s seconds\" % int(t5))\n",
    "print(\"F1 score using a logistic regression with saga solver : %s\" % score5)"
   ]
  },
  {
   "cell_type": "code",
   "execution_count": null,
   "metadata": {},
   "outputs": [],
   "source": [
    "model_lg_6, score6 ,t6 = LogisticRegression_training(X_train, X_val, y_train, y_val, 'lbfgs', 100)"
   ]
  },
  {
   "cell_type": "code",
   "execution_count": 8,
   "metadata": {},
   "outputs": [
    {
     "name": "stdout",
     "output_type": "stream",
     "text": [
      "training duration: 240 seconds\n",
      "F1 score using a logistic regression with Limited-memory BFGS solver : 0.16571075787303247\n"
     ]
    }
   ],
   "source": [
    "print(\"training duration: %s seconds\" % int(t6))\n",
    "print(\"F1 score using a logistic regression with Limited-memory BFGS solver : %s\" % score6)"
   ]
  },
  {
   "cell_type": "markdown",
   "metadata": {},
   "source": [
    "<h4> It seems that the newton-cg was the best one for solving this problem, now we increase the number of iteration to see it imporves the F1-score. "
   ]
  },
  {
   "cell_type": "code",
   "execution_count": null,
   "metadata": {},
   "outputs": [],
   "source": [
    "model_lg_7, score7 ,t7 = LogisticRegression_training(X_train, X_val, y_train, y_val, 'newton-cg', 200)"
   ]
  },
  {
   "cell_type": "code",
   "execution_count": 61,
   "metadata": {},
   "outputs": [
    {
     "name": "stdout",
     "output_type": "stream",
     "text": [
      "F1 score using a logistic regression with newton-cg solver and 200 iterations : 0.48888563739361973\n"
     ]
    }
   ],
   "source": [
    "print(\"F1 score using a logistic regression with newton-cg solver and 200 iterations : %s\" % score7)"
   ]
  },
  {
   "cell_type": "code",
   "execution_count": 49,
   "metadata": {},
   "outputs": [
    {
     "name": "stderr",
     "output_type": "stream",
     "text": [
      "/mnt/workspace/.local/lib/python3.5/site-packages/sklearn/utils/optimize.py:203: ConvergenceWarning: newton-cg failed to converge. Increase the number of iterations.\n",
      "  \"number of iterations.\", ConvergenceWarning)\n"
     ]
    }
   ],
   "source": [
    "model_lg_8, score8 ,t8 = LogisticRegression_training(X_train, X_val, y_train, y_val, 'newton-cg', 500)"
   ]
  },
  {
   "cell_type": "code",
   "execution_count": 62,
   "metadata": {},
   "outputs": [
    {
     "name": "stdout",
     "output_type": "stream",
     "text": [
      "F1 score using a logistic regression with newton-cg solver and 500 iterations : 0.5342433522002815\n"
     ]
    }
   ],
   "source": [
    "print(\"F1 score using a logistic regression with newton-cg solver and 500 iterations : %s\" % score8)"
   ]
  },
  {
   "cell_type": "markdown",
   "metadata": {},
   "source": [
    "<h4>At this stage we see that increase the number of iterations slightly increases the F1 score, but it computionaly very expensive for a worst result than for decision tree."
   ]
  },
  {
   "cell_type": "markdown",
   "metadata": {},
   "source": [
    "<h4>To conclude on this model, in our case logistic regression are computionnaly expensive and not very efficient."
   ]
  },
  {
   "cell_type": "markdown",
   "metadata": {},
   "source": [
    "## Gradient Boosting"
   ]
  },
  {
   "cell_type": "code",
   "execution_count": 63,
   "metadata": {},
   "outputs": [],
   "source": [
    "def trainingGBC(X_train, y_train, loss='deviance', learning_rate=0.1, n_estimators=100, subsample=1.0, criterion='friedman_mse', max_depth=3):\n",
    "    clf = GradientBoostingClassifier(loss='deviance', learning_rate=0.1, n_estimators=100, subsample=1.0, criterion='friedman_mse', max_depth=3) # first try with default parameter\n",
    "    t = time.time()\n",
    "    clf.fit(X_train, y_train)\n",
    "    t = time.time()-t\n",
    "    return clf, t"
   ]
  },
  {
   "cell_type": "code",
   "execution_count": 68,
   "metadata": {},
   "outputs": [],
   "source": [
    "GBC_clf_1, t1 = trainingGBC(X_train, y_train, loss='deviance', learning_rate=0.1, n_estimators=100, subsample=1.0, criterion='friedman_mse', max_depth=3)"
   ]
  },
  {
   "cell_type": "code",
   "execution_count": 56,
   "metadata": {},
   "outputs": [
    {
     "name": "stdout",
     "output_type": "stream",
     "text": [
      "training duration: 2427.550479412079\n"
     ]
    }
   ],
   "source": [
    "print(\"training duration: %s second\" %int(t1))"
   ]
  },
  {
   "cell_type": "code",
   "execution_count": 54,
   "metadata": {},
   "outputs": [],
   "source": [
    "GBC_clf_2 = load(\"clf22.joblib\")"
   ]
  },
  {
   "cell_type": "code",
   "execution_count": 58,
   "metadata": {},
   "outputs": [
    {
     "name": "stdout",
     "output_type": "stream",
     "text": [
      "F1 score using a Gradient Boosting train with the increase dataset: 0.817697364516699\n"
     ]
    }
   ],
   "source": [
    "y_pred = GBC_clf_1.predict(X_val)\n",
    "score = f1_score(y_pred, y_val, average='macro')\n",
    "print(\"F1 score using a Gradient Boosting train with the increase dataset: %s\" % score)"
   ]
  },
  {
   "cell_type": "code",
   "execution_count": 50,
   "metadata": {},
   "outputs": [
    {
     "name": "stdout",
     "output_type": "stream",
     "text": [
      "F1 score using a Gradient Boosting with the original data for the validtion: 0.404668020983579\n"
     ]
    }
   ],
   "source": [
    "y_pred_no_resampled = GBC_clf_1.predict(X_val_no_resampled)\n",
    "score = f1_score(y_pred_no_resampled, y_val_no_resampled, average='macro')\n",
    "print(\"F1 score using a Gradient Boosting with the original data for the validtion: %s\" % score)"
   ]
  },
  {
   "cell_type": "code",
   "execution_count": null,
   "metadata": {},
   "outputs": [],
   "source": [
    "GBC_clf_2, t2 =  trainingGBC(X_train_no_resampled, y_train_no_resampled, loss='deviance', learning_rate=0.1, n_estimators=100, subsample=1.0, criterion='friedman_mse', max_depth=3)"
   ]
  },
  {
   "cell_type": "code",
   "execution_count": 57,
   "metadata": {},
   "outputs": [
    {
     "name": "stdout",
     "output_type": "stream",
     "text": [
      "training duration: 3724 second\n"
     ]
    }
   ],
   "source": [
    "print(\"training duration: %s second\" %int(t2))"
   ]
  },
  {
   "cell_type": "code",
   "execution_count": 61,
   "metadata": {},
   "outputs": [
    {
     "name": "stdout",
     "output_type": "stream",
     "text": [
      "F1 score using a Gradient Boosting train with the original dataset: 0.6298639117953518\n"
     ]
    }
   ],
   "source": [
    "y_pred = GBC_clf_2.predict(X_val_no_resampled)\n",
    "score = f1_score(y_pred, y_val_no_resampled, average='macro')\n",
    "print(\"F1 score using a Gradient Boosting train with the original dataset: %s\" % score)"
   ]
  },
  {
   "cell_type": "markdown",
   "metadata": {},
   "source": [
    "<h4>Here we noticed that the model train with the original data perform well, better than the model train on the synthetic data when use on the original data.</h4>\n",
    "\n",
    "<table>\n",
    "   <tr>\n",
    "       <th>training data used </th>\n",
    "       <th> validation data used</th>\n",
    "       <th>f1 score</th>\n",
    "   </tr>\n",
    "\n",
    "   <tr>\n",
    "       <td>resample data</td>\n",
    "       <td>resample data</td>\n",
    "       <td>0.8176</td>\n",
    "   </tr>\n",
    "   <tr>\n",
    "       <td>original data</td>\n",
    "       <td>original data</td>\n",
    "       <td>0.4046</td>\n",
    "   </tr>\n",
    "    <tr>\n",
    "       <td>resample data</td>\n",
    "       <td>original data</td>\n",
    "       <td>0.6298</td>\n",
    "   </tr>\n",
    "</table>\n",
    "\n",
    "\n",
    "<h4>Finally it appear that our data augmentation and balance were not relevant as it does not enable to train better model when dealing with gradient boosting. There may are  two reasons: First the SMOTE Algorithm does not generate relevant new data, secondly as we see for Decision Tree classifier, the distribution that we choose for the resample data during the preprocesing was not enougth relevant. For computionaly issues we remove too much data like for the detritus class. Model are not able to learn this class well because they may be too less data</h4>"
   ]
  },
  {
   "cell_type": "markdown",
   "metadata": {},
   "source": [
    "<h4> we can try to optimize the learning rate to improve our gradient boosting model"
   ]
  },
  {
   "cell_type": "code",
   "execution_count": null,
   "metadata": {},
   "outputs": [],
   "source": [
    "GBC_clf_5, t5 =  trainingGBC(X_train_no_resampled, y_train_no_resampled, loss='deviance', learning_rate=0.05, n_estimators=200, subsample=1.0, criterion='friedman_mse', max_depth=3)\n",
    "GBC_clf_6, t5 =  trainingGBC(X_train_no_resampled, y_train_no_resampled, loss='deviance', learning_rate=0.05, n_estimators=500, subsample=1.0, criterion='friedman_mse', max_depth=3)"
   ]
  },
  {
   "cell_type": "code",
   "execution_count": 40,
   "metadata": {},
   "outputs": [
    {
     "name": "stdout",
     "output_type": "stream",
     "text": [
      "training duration: 3713.876478910446 s\n",
      "F1 score using a Gradient Boosting train with the original dataset: 0.42255265116600754\n"
     ]
    }
   ],
   "source": [
    "y_pred = GBC_clf_5.predict(X_val_no_resampled)\n",
    "score = f1_score(y_pred, y_val_no_resampled, average='macro')\n",
    "print(\"training duration: %s s\" % t5)\n",
    "print(\"F1 score using a Gradient Boosting train with the original dataset: %s\" % score)"
   ]
  },
  {
   "cell_type": "code",
   "execution_count": null,
   "metadata": {},
   "outputs": [],
   "source": [
    "GBC_clf_6, t6 =  trainingGBC(X_train_no_resampled, y_train_no_resampled, loss='deviance', learning_rate=0.05, n_estimators=500, subsample=1.0, criterion='friedman_mse', max_depth=3)"
   ]
  },
  {
   "cell_type": "code",
   "execution_count": null,
   "metadata": {},
   "outputs": [],
   "source": [
    "y_pred = GBC_clf_6.predict(X_val_no_resampled)\n",
    "score = f1_score(y_pred, y_val_no_resampled, average='macro')"
   ]
  },
  {
   "cell_type": "code",
   "execution_count": 43,
   "metadata": {},
   "outputs": [
    {
     "name": "stdout",
     "output_type": "stream",
     "text": [
      "training duration: 3674 s\n",
      "F1 score using a Gradient Boosting train with the original dataset: 0.42308940470066797\n"
     ]
    }
   ],
   "source": [
    "print(\"training duration: %s s\" % round(t6))\n",
    "print(\"F1 score using a Gradient Boosting train with the original dataset: %s\" % score)"
   ]
  },
  {
   "cell_type": "markdown",
   "metadata": {},
   "source": [
    "here our tries are not helping us to improve the model."
   ]
  },
  {
   "cell_type": "markdown",
   "metadata": {},
   "source": [
    "# 3-4: Deep Learning Model"
   ]
  },
  {
   "cell_type": "markdown",
   "metadata": {},
   "source": [
    "<div class=\"\">\n",
    "    <h3>3. Model Selection</h3>\n",
    "</div>\n",
    "\n",
    "A neural network allws us to perform image classification tasks directly from the images without the need for extra features. It takes images as an entry that all have the same shape (after we do a preprocessing), it cannot take any other data type as an input.\n",
    "\n",
    "- The advantages is that deep learning networks generally have high accuracy, fast prediction speed, they can handles lots of irrelevant features (separates signal from noise) and finally they automatically learn feature interactions.\n",
    "\n",
    "- The drawbacks of networks is that there are not interpretable, very slow to train due to huge quantities of parameters (weights connecting different layers).\n",
    "\n",
    "\n",
    "We chose a simple Convolutional Neural Network (CNN) as our DeepLearning model as it is the one commonly used to deal with image classification in deep learning. \n",
    "The one we chose is composed of 2 convolutional layers, dropout at last layer, and Pooling layers after covolutional layers in order to perform dimensionality reduction and have faster training.\n",
    "\n",
    "Batch normalization layers are not used here as we thought it may have slowed down the training process and as we normalize our data before it enters our input layer.\n",
    "\n",
    "We did not try other architectures because we wanted to take more time trying to tune hyperparameters that were independant from the neural network architecture and because other architectures provide unsignificant results improvement or small improvements in some cases.\n",
    "\n",
    "The size of the convolutional layers and the kernel were chosen arbitrarily according to some models that had good performances for image classification tasks in the litterature so we decided to  give a try to the following network.\n",
    "\n",
    "\n",
    "\n"
   ]
  },
  {
   "cell_type": "markdown",
   "metadata": {},
   "source": [
    "First of all, we get our training set, validation set, encode our labels as encoders for the neural network."
   ]
  },
  {
   "cell_type": "code",
   "execution_count": 18,
   "metadata": {},
   "outputs": [],
   "source": [
    "from keras.utils import to_categorical\n",
    "\n",
    "\n",
    "trainImages = np.array([i[0] for i in images]).reshape(-1, IMG_SIZE, IMG_SIZE, 1)\n",
    "trainLabels = np.array([i[1] for i in images])\n"
   ]
  },
  {
   "cell_type": "code",
   "execution_count": 19,
   "metadata": {},
   "outputs": [],
   "source": [
    "del images"
   ]
  },
  {
   "cell_type": "code",
   "execution_count": 21,
   "metadata": {},
   "outputs": [
    {
     "data": {
      "text/plain": [
       "LabelEncoder()"
      ]
     },
     "execution_count": 21,
     "metadata": {},
     "output_type": "execute_result"
    }
   ],
   "source": [
    "from sklearn import preprocessing\n",
    "le = preprocessing.LabelEncoder()\n",
    "le.fit(list_label)"
   ]
  },
  {
   "cell_type": "code",
   "execution_count": 22,
   "metadata": {},
   "outputs": [
    {
     "name": "stdout",
     "output_type": "stream",
     "text": [
      "39\n"
     ]
    }
   ],
   "source": [
    "trainLabels = le.transform(trainLabels) "
   ]
  },
  {
   "cell_type": "code",
   "execution_count": 23,
   "metadata": {},
   "outputs": [],
   "source": [
    "trainLabels = to_categorical(trainLabels)\n"
   ]
  },
  {
   "cell_type": "code",
   "execution_count": 25,
   "metadata": {},
   "outputs": [],
   "source": [
    "from sklearn.model_selection import train_test_split\n",
    "from sklearn.utils.class_weight import compute_class_weight\n",
    "\n",
    "# we stratify in order to have classes distributed over training and validation data\n",
    "X_train, X_val, y_train, y_val = train_test_split(trainImages, trainLabels, stratify = trainLabels, test_size = 0.3)\n",
    "\n",
    "\n",
    "# compute quantities required for featurewise normalization (std, mean)\n",
    "datagen.fit(X_train)\n",
    "\n",
    "test_datagen = ImageDataGenerator(\n",
    "    featurewise_center=True,   # used to compute quantities required for featurewise normalization (std, mean)\n",
    "    featurewise_std_normalization=True,  # used to compute quantities required for featurewise normalization (std, mean)\n",
    "    )\n",
    "\n",
    "# compute quantities required for featurewise normalization (std, mean)\n",
    "test_datagen.fit(X_val)\n",
    "\n",
    "\n",
    "\n",
    "\n",
    "\n",
    "y_integers = np.argmax(y_train, axis=1)\n",
    "\n",
    "\n",
    "#Estimate sample weights by class for unbalanced datasets.\n",
    "class_weights = compute_class_weight('balanced', np.unique(y_integers), y_integers)\n",
    "d_class_weights = dict(enumerate(class_weights))\n",
    "\n",
    "\n",
    "\n"
   ]
  },
  {
   "cell_type": "markdown",
   "metadata": {},
   "source": [
    "### Imports and Model building"
   ]
  },
  {
   "cell_type": "code",
   "execution_count": 26,
   "metadata": {},
   "outputs": [],
   "source": [
    "import keras\n",
    "from keras.models import Sequential\n",
    "from keras.layers import Dense, Dropout, Flatten\n",
    "from keras.layers import Conv2D, MaxPooling2D\n",
    "from keras.layers. normalization import BatchNormalization\n",
    "import numpy as np\n",
    "from keras.models import load_model\n",
    "from keras.models import Sequential\n",
    "from keras.layers import Activation, Dropout, Flatten, Dense\n",
    "from keras.layers import Conv2D, MaxPooling2D\n",
    "from keras.layers. normalization import BatchNormalization"
   ]
  },
  {
   "cell_type": "code",
   "execution_count": 27,
   "metadata": {},
   "outputs": [],
   "source": [
    "model = Sequential()\n",
    "model.add(Conv2D(32, kernel_size=(3, 3),\n",
    "                 activation='relu',\n",
    "                 input_shape=(IMG_SIZE, IMG_SIZE, 1)))\n",
    "model.add(MaxPooling2D(pool_size=(2, 2)))\n",
    "#model.add(BatchNormalization())\n",
    "\n",
    "model.add(Conv2D(64, kernel_size=(3, 3), \n",
    "                 activation='relu'))\n",
    "model.add(MaxPooling2D(pool_size=(2, 2)))\n",
    "#model.add(BatchNormalization())\n",
    "\n",
    "\n",
    "model.add(Flatten())\n",
    "model.add(Dense(64, activation='relu'))\n",
    "model.add(Dropout(0.5))\n",
    "model.add(Dense(39, activation='softmax'))\n",
    "\n",
    "#save initial weights in order to use the same when comparing different approaches\n",
    "model.save_weights(\"initial_weights.h5\")\n",
    "\n"
   ]
  },
  {
   "cell_type": "code",
   "execution_count": 26,
   "metadata": {},
   "outputs": [
    {
     "name": "stdout",
     "output_type": "stream",
     "text": [
      "_________________________________________________________________\n",
      "Layer (type)                 Output Shape              Param #   \n",
      "=================================================================\n",
      "conv2d_1 (Conv2D)            (None, 48, 48, 32)        320       \n",
      "_________________________________________________________________\n",
      "max_pooling2d_1 (MaxPooling2 (None, 24, 24, 32)        0         \n",
      "_________________________________________________________________\n",
      "conv2d_2 (Conv2D)            (None, 22, 22, 64)        18496     \n",
      "_________________________________________________________________\n",
      "max_pooling2d_2 (MaxPooling2 (None, 11, 11, 64)        0         \n",
      "_________________________________________________________________\n",
      "flatten_1 (Flatten)          (None, 7744)              0         \n",
      "_________________________________________________________________\n",
      "dense_1 (Dense)              (None, 64)                495680    \n",
      "_________________________________________________________________\n",
      "dropout_1 (Dropout)          (None, 64)                0         \n",
      "_________________________________________________________________\n",
      "dense_2 (Dense)              (None, 39)                2535      \n",
      "=================================================================\n",
      "Total params: 517,031\n",
      "Trainable params: 517,031\n",
      "Non-trainable params: 0\n",
      "_________________________________________________________________\n"
     ]
    }
   ],
   "source": [
    "model.summary()"
   ]
  },
  {
   "cell_type": "markdown",
   "metadata": {},
   "source": [
    "# 4. Parameter Tuning \n",
    "\n",
    "<b> For choosing the best parameters, we use the <code>class_weight</code> otpion of Sequential.fit. This can be useful to tell the model to \"pay more attention\" to samples from an under-represented class.</b>"
   ]
  },
  {
   "cell_type": "markdown",
   "metadata": {},
   "source": [
    "## Optimizer + learning rate"
   ]
  },
  {
   "cell_type": "markdown",
   "metadata": {},
   "source": [
    "We are going to chose an optimizer and set it's learning rate when needed. We want to get practical results to choose the one we will use to make sure it's the most suitable for our problem.\n",
    "What we want here is a neural network that is accurate but also learns fast, therefore we just look at the 2 first epochs, so it may be that one neural network with a small learning rate is better but if it converges too slowly we will not choose it."
   ]
  },
  {
   "cell_type": "markdown",
   "metadata": {},
   "source": [
    "### - Adagrad"
   ]
  },
  {
   "cell_type": "markdown",
   "metadata": {},
   "source": [
    "Adagrad is an optimizer with parameter-specific learning rates, which are adapted relative to how frequently a parameter gets updated during training. The more updates a parameter receives, the smaller the learning rate.\n",
    "<br>\n",
    "Here we try with a high initial learning rate, and as it adapts we do not try other learning rates."
   ]
  },
  {
   "cell_type": "code",
   "execution_count": 27,
   "metadata": {},
   "outputs": [
    {
     "name": "stdout",
     "output_type": "stream",
     "text": [
      "Epoch 1/3\n",
      "1774/1773 [==============================] - 75s 42ms/step - loss: 3.4821 - acc: 0.0828 - val_loss: 3.0871 - val_acc: 0.1517\n",
      "Epoch 2/3\n",
      "1774/1773 [==============================] - 106s 60ms/step - loss: 3.3285 - acc: 0.1197 - val_loss: 2.7757 - val_acc: 0.2625\n",
      "Epoch 3/3\n",
      "1774/1773 [==============================] - 107s 60ms/step - loss: 3.2126 - acc: 0.1564 - val_loss: 2.7038 - val_acc: 0.2463\n"
     ]
    }
   ],
   "source": [
    "# Learning Rate = 0.1\n",
    "lr=0.1\n",
    "\n",
    "model.compile(loss='categorical_crossentropy',\n",
    "              optimizer=keras.optimizers.Adadelta(lr=lr),\n",
    "              metrics=['accuracy'])\n",
    "\n",
    "#re-initialize the weights of the neuron\n",
    "model.load_weights(\"initial_weights.h5\")\n",
    "\n",
    "\n",
    "\n",
    "model.fit_generator(datagen.flow(X_train, y_train, batch_size=32),validation_data= test_datagen.flow(X_val, y_val, batch_size=32),\n",
    "                    steps_per_epoch=len(X_train) / 32, epochs=3,  class_weight= d_class_weights)\n",
    "\n",
    "model.save('adaG.h5')"
   ]
  },
  {
   "cell_type": "markdown",
   "metadata": {},
   "source": [
    "### - Adadelta\n"
   ]
  },
  {
   "cell_type": "markdown",
   "metadata": {},
   "source": [
    "Adadelta is a more robust extension of Adagrad that adapts learning rates based on a moving window of gradient updates, instead of accumulating all past gradients. This way, Adadelta continues learning even when many updates have been done. Compared to Adagrad, in the original version of Adadelta you don't have to set an initial learning rate. In this version, initial learning rate and decay factor can be set, as in most other Keras optimizers.\n",
    "<br>\n",
    "Here we try with a high initial learning rate, and as it adapts we do not try other learning rates."
   ]
  },
  {
   "cell_type": "code",
   "execution_count": 28,
   "metadata": {},
   "outputs": [
    {
     "name": "stdout",
     "output_type": "stream",
     "text": [
      "Epoch 1/3\n",
      "1774/1773 [==============================] - 109s 61ms/step - loss: 3.4495 - acc: 0.1306 - val_loss: 3.1647 - val_acc: 0.1746\n",
      "Epoch 2/3\n",
      "1774/1773 [==============================] - 106s 60ms/step - loss: 3.2968 - acc: 0.1517 - val_loss: 4.1184 - val_acc: 0.1882\n",
      "Epoch 3/3\n",
      "1774/1773 [==============================] - 108s 61ms/step - loss: 3.3952 - acc: 0.1296 - val_loss: 4.2196 - val_acc: 0.0747\n"
     ]
    }
   ],
   "source": [
    "# Learning Rate = 5\n",
    "lr=5\n",
    "\n",
    "model.compile(loss='categorical_crossentropy',\n",
    "              optimizer=keras.optimizers.Adadelta(lr=lr),\n",
    "              metrics=['accuracy'])\n",
    "\n",
    "\n",
    "model.load_weights(\"initial_weights.h5\")\n",
    "\n",
    "\n",
    "model.fit_generator(datagen.flow(X_train, y_train, batch_size=32),validation_data= test_datagen.flow(X_val, y_val, batch_size=32),\n",
    "                    steps_per_epoch=len(X_train) / 32, epochs=3,  class_weight= d_class_weights)\n",
    "model.save('adaD05.h5')"
   ]
  },
  {
   "cell_type": "markdown",
   "metadata": {},
   "source": [
    "### - RMSProp"
   ]
  },
  {
   "cell_type": "markdown",
   "metadata": {},
   "source": [
    "RMSProp uses a moving average of squared gradients to normalize the gradient itself. Here we look at 3 different learning rates."
   ]
  },
  {
   "cell_type": "code",
   "execution_count": 29,
   "metadata": {},
   "outputs": [
    {
     "name": "stdout",
     "output_type": "stream",
     "text": [
      "Epoch 1/3\n",
      "1774/1773 [==============================] - 85s 48ms/step - loss: 3.4885 - acc: 0.0974 - val_loss: 2.7839 - val_acc: 0.2174\n",
      "Epoch 2/3\n",
      "1774/1773 [==============================] - 58s 33ms/step - loss: 3.3156 - acc: 0.1542 - val_loss: 2.6313 - val_acc: 0.2740\n",
      "Epoch 3/3\n",
      "1774/1773 [==============================] - 58s 33ms/step - loss: 3.2229 - acc: 0.1801 - val_loss: 2.5794 - val_acc: 0.2646\n",
      "Epoch 1/3\n",
      "1774/1773 [==============================] - 61s 34ms/step - loss: 3.3901 - acc: 0.1650 - val_loss: 2.9532 - val_acc: 0.2412\n",
      "Epoch 2/3\n",
      "1774/1773 [==============================] - 60s 34ms/step - loss: 3.2777 - acc: 0.1814 - val_loss: 3.4684 - val_acc: 0.2204\n",
      "Epoch 3/3\n",
      "1774/1773 [==============================] - 106s 60ms/step - loss: 3.3201 - acc: 0.1885 - val_loss: 3.7884 - val_acc: 0.2158\n",
      "Epoch 1/3\n",
      "1774/1773 [==============================] - 104s 59ms/step - loss: 6.3591 - acc: 0.0299 - val_loss: 3.5528 - val_acc: 0.0310\n",
      "Epoch 2/3\n",
      "1774/1773 [==============================] - 104s 59ms/step - loss: 3.9151 - acc: 0.0280 - val_loss: 3.9245 - val_acc: 0.0333\n",
      "Epoch 3/3\n",
      "1774/1773 [==============================] - 108s 61ms/step - loss: 3.9952 - acc: 0.0284 - val_loss: 3.6028 - val_acc: 0.0493\n"
     ]
    }
   ],
   "source": [
    "# Learning Rate = 0.0001\n",
    "lr=0.0001\n",
    "\n",
    "model.compile(loss='categorical_crossentropy',\n",
    "              optimizer=keras.optimizers.RMSprop(lr=lr),\n",
    "              metrics=['accuracy'])\n",
    "\n",
    "\n",
    "model.load_weights(\"initial_weights.h5\")\n",
    "\n",
    "\n",
    "model.fit_generator(datagen.flow(X_train, y_train, batch_size=32), validation_data= test_datagen.flow(X_val, y_val, batch_size=32),\n",
    "                    steps_per_epoch=len(X_train) / 32, epochs=3,  class_weight= d_class_weights)\n",
    "model.save('rms0001.h5')\n",
    "\n",
    "# Learning Rate = 0.001\n",
    "lr=0.001\n",
    "\n",
    "model.compile(loss='categorical_crossentropy',\n",
    "              optimizer=keras.optimizers.RMSprop(lr=lr),\n",
    "              metrics=['accuracy'])\n",
    "\n",
    "\n",
    "model.load_weights(\"initial_weights.h5\")\n",
    "\n",
    "model.fit_generator(datagen.flow(X_train, y_train, batch_size=32), validation_data= test_datagen.flow(X_val, y_val, batch_size=32),\n",
    "                    steps_per_epoch=len(X_train) / 32, epochs=3,  class_weight= d_class_weights)\n",
    "model.save('rms001.h5')\n",
    "\n",
    "# Learning Rate = 0.01\n",
    "lr=0.01\n",
    "\n",
    "model.compile(loss='categorical_crossentropy',\n",
    "              optimizer=keras.optimizers.RMSprop(lr=lr),\n",
    "              metrics=['accuracy'])\n",
    "\n",
    "\n",
    "model.load_weights(\"initial_weights.h5\")\n",
    "\n",
    "model.fit_generator(datagen.flow(X_train, y_train, batch_size=32), validation_data= test_datagen.flow(X_val, y_val, batch_size=32),\n",
    "                    steps_per_epoch=len(X_train) / 32, epochs=3,  class_weight= d_class_weights)\n",
    "model.save('rms01.h5')"
   ]
  },
  {
   "cell_type": "markdown",
   "metadata": {},
   "source": [
    "## DropOut"
   ]
  },
  {
   "cell_type": "markdown",
   "metadata": {},
   "source": [
    "Dropout is a regularization method that approximates training a large number of neural networks with different architectures in parallel.\n",
    "\n",
    "During training, some number of layer outputs are randomly ignored or “dropped out.” This has the effect of making the layer look-like and be treated-like a layer with a different number of nodes and connectivity to the prior layer. In effect, each update to a layer during training is performed with a different “view” of the configured layer."
   ]
  },
  {
   "cell_type": "markdown",
   "metadata": {},
   "source": [
    "In our model we added a dropout for the last hidden layer. \n",
    "Generally, a small dropout value of 20%-50% of neurons is chosen."
   ]
  },
  {
   "cell_type": "markdown",
   "metadata": {},
   "source": [
    "We try 3 different dropout values that are 0.5, 0.3 and 0.2 (the 0.5 has been tried in cells above), we use the adaDelta optimizer here"
   ]
  },
  {
   "cell_type": "code",
   "execution_count": 30,
   "metadata": {},
   "outputs": [
    {
     "name": "stdout",
     "output_type": "stream",
     "text": [
      "Epoch 1/3\n",
      "1774/1773 [==============================] - 111s 63ms/step - loss: 3.3327 - acc: 0.1596 - val_loss: 4.0957 - val_acc: 0.1959\n",
      "Epoch 2/3\n",
      "1774/1773 [==============================] - 107s 60ms/step - loss: 3.1502 - acc: 0.1875 - val_loss: 5.2071 - val_acc: 0.1769\n",
      "Epoch 3/3\n",
      "1774/1773 [==============================] - 100s 56ms/step - loss: 3.1049 - acc: 0.1784 - val_loss: 5.2753 - val_acc: 0.1778\n"
     ]
    }
   ],
   "source": [
    "#Set the dropout value to 0.3\n",
    "dropout=0.3\n",
    "lr=5\n",
    "\n",
    "model = Sequential()\n",
    "model.add(Conv2D(32, kernel_size=(3, 3),\n",
    "                 activation='relu',\n",
    "                 input_shape=(IMG_SIZE, IMG_SIZE, 1)))\n",
    "model.add(MaxPooling2D(pool_size=(2, 2)))\n",
    "\n",
    "model.add(Conv2D(64, kernel_size=(3, 3), \n",
    "                 activation='relu'))\n",
    "model.add(MaxPooling2D(pool_size=(2, 2)))\n",
    "\n",
    "model.add(Flatten())\n",
    "model.add(Dense(64, activation='relu'))\n",
    "model.add(Dropout(dropout))\n",
    "model.add(Dense(39, activation='softmax'))\n",
    "\n",
    "model.compile(loss='categorical_crossentropy',\n",
    "              optimizer=keras.optimizers.Adadelta(lr=lr),\n",
    "              metrics=['accuracy'])\n",
    "\n",
    "\n",
    "model.fit_generator(datagen.flow(X_train, y_train, batch_size=32),validation_data= test_datagen.flow(X_val, y_val, batch_size=32),\n",
    "                    steps_per_epoch=len(X_train) / 32, epochs=3,  class_weight= d_class_weights)\n",
    "model.save('adaD03.h5')"
   ]
  },
  {
   "cell_type": "code",
   "execution_count": 31,
   "metadata": {},
   "outputs": [
    {
     "name": "stdout",
     "output_type": "stream",
     "text": [
      "Epoch 1/3\n",
      "1774/1773 [==============================] - 60s 34ms/step - loss: 3.2338 - acc: 0.1498 - val_loss: 3.6777 - val_acc: 0.1994\n",
      "Epoch 2/3\n",
      "1774/1773 [==============================] - 60s 34ms/step - loss: 3.0487 - acc: 0.1917 - val_loss: 4.4891 - val_acc: 0.0789\n",
      "Epoch 3/3\n",
      "1774/1773 [==============================] - 60s 34ms/step - loss: 3.0045 - acc: 0.1920 - val_loss: 5.0186 - val_acc: 0.1150\n"
     ]
    }
   ],
   "source": [
    "#Set the dropout value to 0.2\n",
    "dropout=0.2\n",
    "\n",
    "model = Sequential()\n",
    "model.add(Conv2D(32, kernel_size=(3, 3),\n",
    "                 activation='relu',\n",
    "                 input_shape=(IMG_SIZE, IMG_SIZE, 1)))\n",
    "model.add(MaxPooling2D(pool_size=(2, 2)))\n",
    "\n",
    "model.add(Conv2D(64, kernel_size=(3, 3), \n",
    "                 activation='relu'))\n",
    "model.add(MaxPooling2D(pool_size=(2, 2)))\n",
    "\n",
    "model.add(Flatten())\n",
    "model.add(Dense(64, activation='relu'))\n",
    "model.add(Dropout(dropout))\n",
    "model.add(Dense(39, activation='softmax'))\n",
    "\n",
    "model.compile(loss='categorical_crossentropy',\n",
    "              optimizer=keras.optimizers.Adadelta(lr=lr),\n",
    "              metrics=['accuracy'])\n",
    "\n",
    "\n",
    "model.fit_generator(datagen.flow(X_train, y_train, batch_size=32), validation_data= test_datagen.flow(X_val, y_val, batch_size=32),\n",
    "                    steps_per_epoch=len(X_train) / 32, epochs=3,  class_weight= d_class_weights)\n",
    "model.save('adaD015.h5')"
   ]
  },
  {
   "cell_type": "markdown",
   "metadata": {},
   "source": [
    "Let's compare the F1 scores we get because it is the metrics we will use, it is more meaningful for such an imbalanced set than accuracy. In terms of training time all networks have the same order of magnitude so we will not take the time into account to chose our model.\n",
    "\n",
    "\n",
    "F1 Scores for each set of hyperparameters :"
   ]
  },
  {
   "cell_type": "code",
   "execution_count": 32,
   "metadata": {},
   "outputs": [
    {
     "name": "stderr",
     "output_type": "stream",
     "text": [
      "/usr/local/lib/python3.5/dist-packages/sklearn/metrics/classification.py:1135: UndefinedMetricWarning: F-score is ill-defined and being set to 0.0 in labels with no predicted samples.\n",
      "  'precision', 'predicted', average, warn_for)\n"
     ]
    },
    {
     "name": "stdout",
     "output_type": "stream",
     "text": [
      "F1 Scores for our different models for just 3 epochs\n"
     ]
    },
    {
     "data": {
      "text/plain": [
       "{'adaD015.h5': 0.05558064790633469,\n",
       " 'adaD03.h5': 0.07256484638810647,\n",
       " 'adaD05.h5': 0.034672602845469275,\n",
       " 'adaG.h5': 0.09959545375980786,\n",
       " 'rms0001.h5': 0.1161247620411892,\n",
       " 'rms001.h5': 0.09404895203278511,\n",
       " 'rms01.h5': 0.014765048829197238}"
      ]
     },
     "execution_count": 32,
     "metadata": {},
     "output_type": "execute_result"
    }
   ],
   "source": [
    "from sklearn.metrics import f1_score\n",
    "\n",
    "models = ['adaG.h5','adaD05.h5','adaD03.h5','adaD015.h5','rms0001.h5','rms001.h5','rms01.h5']\n",
    "scores = {}\n",
    "X_val_std = (X_val- np.mean(X_train))/np.std(X_train)\n",
    "\n",
    "\n",
    "for NN_models in models:\n",
    "    \n",
    "    model= load_model(NN_models)\n",
    "    y_pred = model.predict(X_val_std) #we standardize X_val using featurewise mean and std deviation of the training set\n",
    "    for i in range(y_pred.shape[0]):\n",
    "        pred = np.argmax(y_pred[i])\n",
    "        for j in range(y_pred.shape[1]):\n",
    "            y_pred[i][j] = (j == pred)\n",
    "\n",
    "    scores[NN_models] = f1_score(y_val, y_pred, average='macro')\n",
    "\n",
    "print('F1 Scores for our different models for just 3 epochs')\n",
    "scores"
   ]
  },
  {
   "cell_type": "markdown",
   "metadata": {},
   "source": [
    "# 5.Model Evaluation\n"
   ]
  },
  {
   "cell_type": "markdown",
   "metadata": {},
   "source": [
    "## Deep Learning best model :\n",
    "\n",
    "Now we are going to train our best model more in order to achieve higher scores. We chose a dropout of 0.3 RMS as RMS gives us the best score, and among the 3 dropout rates with Adadelta the best one is 0.3."
   ]
  },
  {
   "cell_type": "code",
   "execution_count": 25,
   "metadata": {},
   "outputs": [
    {
     "name": "stdout",
     "output_type": "stream",
     "text": [
      "Epoch 1/10\n",
      "1996/1995 [==============================] - 129s 65ms/step - loss: 2.3571 - acc: 0.3239 - val_loss: 2.7109 - val_acc: 0.2917\n",
      "Epoch 2/10\n",
      "1996/1995 [==============================] - 129s 65ms/step - loss: 2.1940 - acc: 0.3353 - val_loss: 2.5564 - val_acc: 0.2984\n",
      "Epoch 3/10\n",
      "1996/1995 [==============================] - 129s 65ms/step - loss: 2.1568 - acc: 0.3447 - val_loss: 2.6698 - val_acc: 0.2823\n",
      "Epoch 4/10\n",
      "1996/1995 [==============================] - 129s 65ms/step - loss: 2.1143 - acc: 0.3573 - val_loss: 2.6754 - val_acc: 0.3101\n",
      "Epoch 5/10\n",
      "1996/1995 [==============================] - 128s 64ms/step - loss: 2.0683 - acc: 0.3621 - val_loss: 2.6418 - val_acc: 0.2962\n",
      "Epoch 6/10\n",
      "1996/1995 [==============================] - 127s 64ms/step - loss: 2.0916 - acc: 0.3662 - val_loss: 2.7184 - val_acc: 0.2901\n",
      "Epoch 7/10\n",
      "1996/1995 [==============================] - 129s 65ms/step - loss: 2.0622 - acc: 0.3705 - val_loss: 2.6020 - val_acc: 0.2848\n",
      "Epoch 8/10\n",
      "1996/1995 [==============================] - 128s 64ms/step - loss: 2.0600 - acc: 0.3751 - val_loss: 2.6525 - val_acc: 0.3116\n",
      "Epoch 9/10\n",
      "1996/1995 [==============================] - 127s 64ms/step - loss: 2.0501 - acc: 0.3653 - val_loss: 2.7093 - val_acc: 0.2944\n",
      "Epoch 10/10\n",
      "1996/1995 [==============================] - 129s 65ms/step - loss: 2.0130 - acc: 0.3757 - val_loss: 2.6912 - val_acc: 0.2925\n"
     ]
    },
    {
     "data": {
      "text/plain": [
       "<keras.callbacks.History at 0x7f7d6474b470>"
      ]
     },
     "execution_count": 25,
     "metadata": {},
     "output_type": "execute_result"
    }
   ],
   "source": [
    "model = load_model('trained_adaD033.h5') #load the model with dropout=0.3 \n",
    "\n",
    "\n",
    "#model.load_weights(\"initial_weights.h5\") #initialize weights\n",
    "\n",
    "model.compile(loss='categorical_crossentropy',\n",
    "              optimizer=keras.optimizers.Adagrad(),\n",
    "              metrics=['accuracy'])\n",
    "\n",
    "\n",
    "model.fit_generator(datagen.flow(X_train, y_train, batch_size=32), validation_data= test_datagen.flow(X_val, y_val, batch_size=32),\n",
    "                    steps_per_epoch=len(X_train) / 32, epochs=10 , class_weight= d_class_weights)\n"
   ]
  },
  {
   "cell_type": "code",
   "execution_count": 30,
   "metadata": {},
   "outputs": [],
   "source": [
    "model.save('trained_adaD033.h5')"
   ]
  },
  {
   "cell_type": "code",
   "execution_count": 31,
   "metadata": {},
   "outputs": [],
   "source": [
    "model = load_model('trained_adaD033.h5')\n",
    "\n",
    "X_val_std = (X_val- np.mean(X_train))/np.std(X_train)"
   ]
  },
  {
   "cell_type": "code",
   "execution_count": 32,
   "metadata": {},
   "outputs": [
    {
     "data": {
      "text/plain": [
       "0.20739938916615586"
      ]
     },
     "execution_count": 32,
     "metadata": {},
     "output_type": "execute_result"
    }
   ],
   "source": [
    "y_pred = model.predict(X_val_std)\n",
    "for i in range(y_pred.shape[0]):\n",
    "    pred = np.argmax(y_pred[i])\n",
    "    for j in range(y_pred.shape[1]):\n",
    "        y_pred[i][j] = (j == pred)\n",
    "\n",
    "from sklearn.metrics import f1_score\n",
    "f1_score(y_val, y_pred, average='macro')"
   ]
  },
  {
   "cell_type": "markdown",
   "metadata": {},
   "source": [
    "It took us around an hour ( 4 times 10 iterations with a trained network that was reloaded) to train the model that seems to converge, and we achieve a f1_score of only 20% with our model. "
   ]
  },
  {
   "cell_type": "code",
   "execution_count": 39,
   "metadata": {},
   "outputs": [
    {
     "data": {
      "text/html": [
       "<div>\n",
       "<style scoped>\n",
       "    .dataframe tbody tr th:only-of-type {\n",
       "        vertical-align: middle;\n",
       "    }\n",
       "\n",
       "    .dataframe tbody tr th {\n",
       "        vertical-align: top;\n",
       "    }\n",
       "\n",
       "    .dataframe thead th {\n",
       "        text-align: right;\n",
       "    }\n",
       "</style>\n",
       "<table border=\"1\" class=\"dataframe\">\n",
       "  <thead>\n",
       "    <tr style=\"text-align: right;\">\n",
       "      <th></th>\n",
       "      <th>F1 score with augmented data</th>\n",
       "      <th>label</th>\n",
       "    </tr>\n",
       "  </thead>\n",
       "  <tbody>\n",
       "    <tr>\n",
       "      <th>0</th>\n",
       "      <td>0.172414</td>\n",
       "      <td>detritus</td>\n",
       "    </tr>\n",
       "    <tr>\n",
       "      <th>1</th>\n",
       "      <td>0.408043</td>\n",
       "      <td>Rhizosolenids</td>\n",
       "    </tr>\n",
       "    <tr>\n",
       "      <th>2</th>\n",
       "      <td>0.226698</td>\n",
       "      <td>silks</td>\n",
       "    </tr>\n",
       "    <tr>\n",
       "      <th>3</th>\n",
       "      <td>0.081871</td>\n",
       "      <td>feces</td>\n",
       "    </tr>\n",
       "    <tr>\n",
       "      <th>4</th>\n",
       "      <td>0.092879</td>\n",
       "      <td>Codonaria</td>\n",
       "    </tr>\n",
       "    <tr>\n",
       "      <th>5</th>\n",
       "      <td>0.068966</td>\n",
       "      <td>Asterionellopsis</td>\n",
       "    </tr>\n",
       "    <tr>\n",
       "      <th>6</th>\n",
       "      <td>0.291809</td>\n",
       "      <td>Codonellopsis (Dictyocystidae)</td>\n",
       "    </tr>\n",
       "    <tr>\n",
       "      <th>7</th>\n",
       "      <td>0.183007</td>\n",
       "      <td>Dictyocysta</td>\n",
       "    </tr>\n",
       "    <tr>\n",
       "      <th>8</th>\n",
       "      <td>0.279209</td>\n",
       "      <td>Neoceratium</td>\n",
       "    </tr>\n",
       "    <tr>\n",
       "      <th>9</th>\n",
       "      <td>0.120471</td>\n",
       "      <td>Copepoda</td>\n",
       "    </tr>\n",
       "    <tr>\n",
       "      <th>10</th>\n",
       "      <td>0.470588</td>\n",
       "      <td>Coscinodiscids</td>\n",
       "    </tr>\n",
       "    <tr>\n",
       "      <th>11</th>\n",
       "      <td>0.113792</td>\n",
       "      <td>nauplii (Crustacea)</td>\n",
       "    </tr>\n",
       "    <tr>\n",
       "      <th>12</th>\n",
       "      <td>0.320088</td>\n",
       "      <td>Protoperidinium</td>\n",
       "    </tr>\n",
       "    <tr>\n",
       "      <th>13</th>\n",
       "      <td>0.128560</td>\n",
       "      <td>Annelida</td>\n",
       "    </tr>\n",
       "    <tr>\n",
       "      <th>14</th>\n",
       "      <td>0.051765</td>\n",
       "      <td>Ceratocorys horrida</td>\n",
       "    </tr>\n",
       "    <tr>\n",
       "      <th>15</th>\n",
       "      <td>0.083485</td>\n",
       "      <td>Dinophysiales</td>\n",
       "    </tr>\n",
       "    <tr>\n",
       "      <th>16</th>\n",
       "      <td>0.102921</td>\n",
       "      <td>Chaetoceros</td>\n",
       "    </tr>\n",
       "    <tr>\n",
       "      <th>17</th>\n",
       "      <td>0.578599</td>\n",
       "      <td>Thalassionema</td>\n",
       "    </tr>\n",
       "    <tr>\n",
       "      <th>18</th>\n",
       "      <td>0.487013</td>\n",
       "      <td>Undellidae</td>\n",
       "    </tr>\n",
       "    <tr>\n",
       "      <th>19</th>\n",
       "      <td>0.241525</td>\n",
       "      <td>rods</td>\n",
       "    </tr>\n",
       "    <tr>\n",
       "      <th>20</th>\n",
       "      <td>0.244224</td>\n",
       "      <td>Hemiaulus</td>\n",
       "    </tr>\n",
       "    <tr>\n",
       "      <th>21</th>\n",
       "      <td>0.040252</td>\n",
       "      <td>Tintinnidiidae</td>\n",
       "    </tr>\n",
       "    <tr>\n",
       "      <th>22</th>\n",
       "      <td>0.493947</td>\n",
       "      <td>pollen</td>\n",
       "    </tr>\n",
       "    <tr>\n",
       "      <th>23</th>\n",
       "      <td>0.086304</td>\n",
       "      <td>Retaria</td>\n",
       "    </tr>\n",
       "    <tr>\n",
       "      <th>24</th>\n",
       "      <td>0.154664</td>\n",
       "      <td>multiple (other)</td>\n",
       "    </tr>\n",
       "    <tr>\n",
       "      <th>25</th>\n",
       "      <td>0.054863</td>\n",
       "      <td>Rhabdonella</td>\n",
       "    </tr>\n",
       "    <tr>\n",
       "      <th>26</th>\n",
       "      <td>0.160920</td>\n",
       "      <td>chainlarge</td>\n",
       "    </tr>\n",
       "    <tr>\n",
       "      <th>27</th>\n",
       "      <td>0.239389</td>\n",
       "      <td>artefact</td>\n",
       "    </tr>\n",
       "    <tr>\n",
       "      <th>28</th>\n",
       "      <td>0.060606</td>\n",
       "      <td>Pleurosigma</td>\n",
       "    </tr>\n",
       "    <tr>\n",
       "      <th>29</th>\n",
       "      <td>0.159624</td>\n",
       "      <td>Odontella (Mediophyceae)</td>\n",
       "    </tr>\n",
       "    <tr>\n",
       "      <th>30</th>\n",
       "      <td>0.057143</td>\n",
       "      <td>centric</td>\n",
       "    </tr>\n",
       "    <tr>\n",
       "      <th>31</th>\n",
       "      <td>0.021390</td>\n",
       "      <td>Cyttarocylis</td>\n",
       "    </tr>\n",
       "    <tr>\n",
       "      <th>32</th>\n",
       "      <td>0.881026</td>\n",
       "      <td>badfocus (artefact)</td>\n",
       "    </tr>\n",
       "    <tr>\n",
       "      <th>33</th>\n",
       "      <td>0.260000</td>\n",
       "      <td>egg (other)</td>\n",
       "    </tr>\n",
       "    <tr>\n",
       "      <th>34</th>\n",
       "      <td>0.114180</td>\n",
       "      <td>Stenosemella</td>\n",
       "    </tr>\n",
       "    <tr>\n",
       "      <th>35</th>\n",
       "      <td>0.028169</td>\n",
       "      <td>Xystonellidae</td>\n",
       "    </tr>\n",
       "    <tr>\n",
       "      <th>36</th>\n",
       "      <td>0.035398</td>\n",
       "      <td>Lithodesmioides</td>\n",
       "    </tr>\n",
       "    <tr>\n",
       "      <th>37</th>\n",
       "      <td>0.008772</td>\n",
       "      <td>tempChaetoceros danicus</td>\n",
       "    </tr>\n",
       "    <tr>\n",
       "      <th>38</th>\n",
       "      <td>0.011450</td>\n",
       "      <td>Bacteriastrum</td>\n",
       "    </tr>\n",
       "  </tbody>\n",
       "</table>\n",
       "</div>"
      ],
      "text/plain": [
       "    F1 score with augmented data                           label\n",
       "0                       0.172414                        detritus\n",
       "1                       0.408043                   Rhizosolenids\n",
       "2                       0.226698                           silks\n",
       "3                       0.081871                           feces\n",
       "4                       0.092879                       Codonaria\n",
       "5                       0.068966                Asterionellopsis\n",
       "6                       0.291809  Codonellopsis (Dictyocystidae)\n",
       "7                       0.183007                     Dictyocysta\n",
       "8                       0.279209                     Neoceratium\n",
       "9                       0.120471                        Copepoda\n",
       "10                      0.470588                  Coscinodiscids\n",
       "11                      0.113792             nauplii (Crustacea)\n",
       "12                      0.320088                 Protoperidinium\n",
       "13                      0.128560                        Annelida\n",
       "14                      0.051765             Ceratocorys horrida\n",
       "15                      0.083485                   Dinophysiales\n",
       "16                      0.102921                     Chaetoceros\n",
       "17                      0.578599                   Thalassionema\n",
       "18                      0.487013                      Undellidae\n",
       "19                      0.241525                            rods\n",
       "20                      0.244224                       Hemiaulus\n",
       "21                      0.040252                  Tintinnidiidae\n",
       "22                      0.493947                          pollen\n",
       "23                      0.086304                         Retaria\n",
       "24                      0.154664                multiple (other)\n",
       "25                      0.054863                     Rhabdonella\n",
       "26                      0.160920                      chainlarge\n",
       "27                      0.239389                        artefact\n",
       "28                      0.060606                     Pleurosigma\n",
       "29                      0.159624        Odontella (Mediophyceae)\n",
       "30                      0.057143                         centric\n",
       "31                      0.021390                    Cyttarocylis\n",
       "32                      0.881026             badfocus (artefact)\n",
       "33                      0.260000                     egg (other)\n",
       "34                      0.114180                    Stenosemella\n",
       "35                      0.028169                   Xystonellidae\n",
       "36                      0.035398                 Lithodesmioides\n",
       "37                      0.008772         tempChaetoceros danicus\n",
       "38                      0.011450                   Bacteriastrum"
      ]
     },
     "execution_count": 39,
     "metadata": {},
     "output_type": "execute_result"
    }
   ],
   "source": [
    "tree_table_f1 = pd.DataFrame(\n",
    "    {'label': list_label,\n",
    "     'F1 score with augmented data': f1_score(y_val, y_pred,labels = le.transform(list_label), average = None)})\n",
    "\n",
    "tree_table_f1"
   ]
  },
  {
   "cell_type": "markdown",
   "metadata": {},
   "source": [
    "### Comment\n",
    "We have better F1 score with less detritus and feces that are overreprensented initially, eventhough we had more accuracy for these particular classes without removing them (but here we want the best F1-score). We think that such a low score for detritus is due to the fact that we dropped a lot of them, and that they are so various that they do not necessarily share similar features. \n",
    "One way we could improve could be to merge some classes such as non living elements because they actually correspond to a large variety of objects."
   ]
  },
  {
   "cell_type": "markdown",
   "metadata": {},
   "source": [
    "# Conclusion :Best Overall Model is Gradient Boosting "
   ]
  },
  {
   "cell_type": "markdown",
   "metadata": {},
   "source": [
    "<h4> Our best model is a gradient boosting model (GBC_clf_2 in the code) train with the original dataset with a learning rate of 0.1 and n_estimators = 100, we obtain a f1 score of 0.6298639117953518.\n",
    "Compared to the deep learning approach it is much more efficient in terms of training and more accurate so for this particular problem we would choose this model without hesitation."
   ]
  },
  {
   "cell_type": "markdown",
   "metadata": {},
   "source": [
    "# References\n",
    "\n",
    "<hr style=\"height:1px;border:none;color:#333;background-color:#333;\" />   \n",
    "\n",
    "https://keras.io/optimizers/\n",
    "\n",
    "[Building powerful image classification models using very little data](https://blog.keras.io/building-powerful-image-classification-models-using-very-little-data.html)\n",
    "\n",
    "[Dropout Regularization in Deep Learning Models With Keras](https://machinelearningmastery.com/dropout-regularization-deep-learning-models-keras/)\n",
    "\n",
    "\n",
    "[Image Classification Keras Tutorial: Kaggle Dog Breed Challenge](https://towardsdatascience.com/image-classification-python-keras-tutorial-kaggle-challenge-45a6332a58b8?fbclid=IwAR1db1RsYJafYpJt_DP384KefbEFoe6RIG0T6faty9bQZWrjLTmANk70N9I)\n",
    "\n",
    "[Deep learning unbalanced training data?Solve it like this.](https://towardsdatascience.com/deep-learning-unbalanced-training-data-solve-it-like-this-6c528e9efea6)\n",
    "\n",
    "[How to handle imbalanced classes in machine learning](https://elitedatascience.com/imbalanced-classes)\n",
    "\n",
    "[How many images do you need to train a neural network?](https://petewarden.com/2017/12/14/how-many-images-do-you-need-to-train-a-neural-network/)\n",
    "\n"
   ]
  },
  {
   "cell_type": "markdown",
   "metadata": {},
   "source": [
    "http://benanne.github.io/2015/03/17/plankton.html"
   ]
  },
  {
   "cell_type": "markdown",
   "metadata": {},
   "source": [
    "https://cv-tricks.com/tensorflow-tutorial/training-convolutional-neural-network-for-image-classification/"
   ]
  },
  {
   "cell_type": "markdown",
   "metadata": {},
   "source": [
    "https://towardsdatascience.com/building-a-logistic-regression-in-python-step-by-step-becd4d56c9c8"
   ]
  },
  {
   "cell_type": "markdown",
   "metadata": {},
   "source": [
    "http://imbalanced-learn.org/en/stable/over_sampling.html"
   ]
  },
  {
   "cell_type": "markdown",
   "metadata": {},
   "source": [
    "https://hal.inria.fr/hal-00860051/document"
   ]
  }
 ],
 "metadata": {
  "kernelspec": {
   "display_name": "Python 3",
   "language": "python",
   "name": "python3"
  },
  "language_info": {
   "codemirror_mode": {
    "name": "ipython",
    "version": 3
   },
   "file_extension": ".py",
   "mimetype": "text/x-python",
   "name": "python",
   "nbconvert_exporter": "python",
   "pygments_lexer": "ipython3",
   "version": "3.7.3"
  }
 },
 "nbformat": 4,
 "nbformat_minor": 2
}
